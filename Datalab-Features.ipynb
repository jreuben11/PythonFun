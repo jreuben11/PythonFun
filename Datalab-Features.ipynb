{
 "cells": [
  {
   "cell_type": "markdown",
   "metadata": {},
   "source": [
    "# Google Cloud Integration"
   ]
  },
  {
   "cell_type": "code",
   "execution_count": 1,
   "metadata": {
    "collapsed": false
   },
   "outputs": [
    {
     "name": "stdout",
     "output_type": "stream",
     "text": [
      "The current project is test-hbase-spark\n"
     ]
    }
   ],
   "source": [
    "# sign in first !!!!\n",
    "from __future__ import print_function \n",
    "from IPython.display import display\n",
    "from datalab.context import Context\n",
    "import datalab.bigquery as bq\n",
    "\n",
    "context = Context.default()\n",
    "print ('The current project is %s' % context.project_id)\n",
    "# context.credentials.get_access_token()"
   ]
  },
  {
   "cell_type": "code",
   "execution_count": 2,
   "metadata": {
    "collapsed": false
   },
   "outputs": [
    {
     "name": "stdout",
     "output_type": "stream",
     "text": [
      "BigQuery-Events.ipynb\n",
      "BigQuery-over-BigTable.ipynb\n",
      "BigQuery.ipynb\n",
      "Datalab-Features.ipynb\n"
     ]
    }
   ],
   "source": [
    "%%bash\n",
    "ls\n",
    "# curl --silent -H \"Metadata-Flavor: Google\" \\\n",
    "#   http://metadata/computeMetadata/v1/instance/service-accounts/default/email"
   ]
  },
  {
   "cell_type": "markdown",
   "metadata": {},
   "source": [
    "# BigQuery"
   ]
  },
  {
   "cell_type": "markdown",
   "metadata": {},
   "source": [
    "## Hello"
   ]
  },
  {
   "cell_type": "code",
   "execution_count": 3,
   "metadata": {
    "collapsed": false
   },
   "outputs": [
    {
     "data": {
      "text/html": [
       "\n",
       "    <div class=\"bqtv\" id=\"1_150989027625\"><table><tr><th>title</th><th>revisions</th></tr><tr><td>George W. Bush</td><td>43652</td></tr><tr><td>List of World Wrestling Entertainment employees</td><td>30572</td></tr><tr><td>Wikipedia</td><td>29726</td></tr><tr><td>United States</td><td>27432</td></tr><tr><td>Michael Jackson</td><td>23245</td></tr><tr><td>Jesus</td><td>21768</td></tr><tr><td>Deaths in 2009</td><td>20814</td></tr><tr><td>World War II</td><td>20546</td></tr><tr><td>Britney Spears</td><td>20529</td></tr><tr><td>Wii</td><td>20225</td></tr></table></div>\n",
       "    <br />(rows: 10, time: 7.4s,     9GB processed, job: job_MLbr0oDfReZpOEywfFyqTQHLYzVD)<br />\n",
       "    <script>\n",
       "\n",
       "      require.config({\n",
       "        paths: {\n",
       "          d3: '//cdnjs.cloudflare.com/ajax/libs/d3/3.4.13/d3',\n",
       "          plotly: 'https://cdn.plot.ly/plotly-1.5.1.min.js?noext',\n",
       "          jquery: '//ajax.googleapis.com/ajax/libs/jquery/2.0.0/jquery.min'\n",
       "        },\n",
       "        map: {\n",
       "          '*': {\n",
       "            datalab: 'nbextensions/gcpdatalab'\n",
       "          }\n",
       "        },\n",
       "        shim: {\n",
       "          plotly: {\n",
       "            deps: ['d3', 'jquery'],\n",
       "            exports: 'plotly'\n",
       "          }\n",
       "        }\n",
       "      });\n",
       "\n",
       "      require(['datalab/charting', 'datalab/element!1_150989027625', 'base/js/events',\n",
       "          'datalab/style!/nbextensions/gcpdatalab/charting.css'],\n",
       "        function(charts, dom, events) {\n",
       "          charts.render('gcharts', dom, events, 'table', [], {\"rows\": [{\"c\": [{\"v\": \"George W. Bush\"}, {\"v\": 43652}]}, {\"c\": [{\"v\": \"List of World Wrestling Entertainment employees\"}, {\"v\": 30572}]}, {\"c\": [{\"v\": \"Wikipedia\"}, {\"v\": 29726}]}, {\"c\": [{\"v\": \"United States\"}, {\"v\": 27432}]}, {\"c\": [{\"v\": \"Michael Jackson\"}, {\"v\": 23245}]}, {\"c\": [{\"v\": \"Jesus\"}, {\"v\": 21768}]}, {\"c\": [{\"v\": \"Deaths in 2009\"}, {\"v\": 20814}]}, {\"c\": [{\"v\": \"World War II\"}, {\"v\": 20546}]}, {\"c\": [{\"v\": \"Britney Spears\"}, {\"v\": 20529}]}, {\"c\": [{\"v\": \"Wii\"}, {\"v\": 20225}]}], \"cols\": [{\"type\": \"string\", \"id\": \"title\", \"label\": \"title\"}, {\"type\": \"number\", \"id\": \"revisions\", \"label\": \"revisions\"}]},\n",
       "            {\n",
       "              pageSize: 25,\n",
       "              cssClassNames:  {\n",
       "                tableRow: 'gchart-table-row',\n",
       "                headerRow: 'gchart-table-headerrow',\n",
       "                oddTableRow: 'gchart-table-oddrow',\n",
       "                selectedTableRow: 'gchart-table-selectedrow',\n",
       "                hoverTableRow: 'gchart-table-hoverrow',\n",
       "                tableCell: 'gchart-table-cell',\n",
       "                headerCell: 'gchart-table-headercell',\n",
       "                rowNumberCell: 'gchart-table-rownumcell'\n",
       "              }\n",
       "            },\n",
       "            {source_index: 0, fields: 'title,revisions', legacy: 'true'},\n",
       "            0,\n",
       "            10);\n",
       "        }\n",
       "      );\n",
       "    </script>\n",
       "  "
      ],
      "text/plain": [
       "QueryResultsTable job_MLbr0oDfReZpOEywfFyqTQHLYzVD"
      ]
     },
     "execution_count": 3,
     "metadata": {},
     "output_type": "execute_result"
    }
   ],
   "source": [
    "%%sql\n",
    "SELECT TOP(title, 10) as title, COUNT(*) as revisions\n",
    "FROM [publicdata:samples.wikipedia]\n",
    "WHERE wp_namespace = 0"
   ]
  },
  {
   "cell_type": "markdown",
   "metadata": {},
   "source": [
    "## APIs"
   ]
  },
  {
   "cell_type": "markdown",
   "metadata": {},
   "source": [
    "### Querying Data"
   ]
  },
  {
   "cell_type": "code",
   "execution_count": 4,
   "metadata": {
    "collapsed": false
   },
   "outputs": [
    {
     "name": "stdout",
     "output_type": "stream",
     "text": [
      "<class 'datalab.bigquery._query_results_table.QueryResultsTable'>\n"
     ]
    },
    {
     "data": {
      "text/html": [
       "\n",
       "    <div class=\"bqtv\" id=\"2_150989031800\"><table><tr><th>timestamp</th><th>latency</th><th>status</th><th>method</th><th>endpoint</th></tr><tr><td>2014-06-15 07:00:00.003772</td><td>122</td><td>200</td><td>GET</td><td>Interact3</td></tr><tr><td>2014-06-15 07:00:00.428897</td><td>144</td><td>200</td><td>GET</td><td>Interact3</td></tr><tr><td>2014-06-15 07:00:00.536486</td><td>48</td><td>200</td><td>GET</td><td>Interact3</td></tr></table></div>\n",
       "    <br />(rows: 3, time: 0.7s,    24MB processed, job: job_y9JOU2dfQFihdwHRILOPW3HCCKtJ)<br />\n",
       "    <script>\n",
       "\n",
       "      require.config({\n",
       "        paths: {\n",
       "          d3: '//cdnjs.cloudflare.com/ajax/libs/d3/3.4.13/d3',\n",
       "          plotly: 'https://cdn.plot.ly/plotly-1.5.1.min.js?noext',\n",
       "          jquery: '//ajax.googleapis.com/ajax/libs/jquery/2.0.0/jquery.min'\n",
       "        },\n",
       "        map: {\n",
       "          '*': {\n",
       "            datalab: 'nbextensions/gcpdatalab'\n",
       "          }\n",
       "        },\n",
       "        shim: {\n",
       "          plotly: {\n",
       "            deps: ['d3', 'jquery'],\n",
       "            exports: 'plotly'\n",
       "          }\n",
       "        }\n",
       "      });\n",
       "\n",
       "      require(['datalab/charting', 'datalab/element!2_150989031800', 'base/js/events',\n",
       "          'datalab/style!/nbextensions/gcpdatalab/charting.css'],\n",
       "        function(charts, dom, events) {\n",
       "          charts.render('gcharts', dom, events, 'table', [], {\"rows\": [{\"c\": [{\"v\": \"2014-06-15T07:00:00.003772\"}, {\"v\": 122}, {\"v\": 200}, {\"v\": \"GET\"}, {\"v\": \"Interact3\"}]}, {\"c\": [{\"v\": \"2014-06-15T07:00:00.428897\"}, {\"v\": 144}, {\"v\": 200}, {\"v\": \"GET\"}, {\"v\": \"Interact3\"}]}, {\"c\": [{\"v\": \"2014-06-15T07:00:00.536486\"}, {\"v\": 48}, {\"v\": 200}, {\"v\": \"GET\"}, {\"v\": \"Interact3\"}]}], \"cols\": [{\"type\": \"datetime\", \"id\": \"timestamp\", \"label\": \"timestamp\"}, {\"type\": \"number\", \"id\": \"latency\", \"label\": \"latency\"}, {\"type\": \"number\", \"id\": \"status\", \"label\": \"status\"}, {\"type\": \"string\", \"id\": \"method\", \"label\": \"method\"}, {\"type\": \"string\", \"id\": \"endpoint\", \"label\": \"endpoint\"}]},\n",
       "            {\n",
       "              pageSize: 25,\n",
       "              cssClassNames:  {\n",
       "                tableRow: 'gchart-table-row',\n",
       "                headerRow: 'gchart-table-headerrow',\n",
       "                oddTableRow: 'gchart-table-oddrow',\n",
       "                selectedTableRow: 'gchart-table-selectedrow',\n",
       "                hoverTableRow: 'gchart-table-hoverrow',\n",
       "                tableCell: 'gchart-table-cell',\n",
       "                headerCell: 'gchart-table-headercell',\n",
       "                rowNumberCell: 'gchart-table-rownumcell'\n",
       "              }\n",
       "            },\n",
       "            {source_index: 1, fields: 'timestamp,latency,status,method,endpoint', legacy: 'true'},\n",
       "            0,\n",
       "            3);\n",
       "        }\n",
       "      );\n",
       "    </script>\n",
       "  "
      ],
      "text/plain": [
       "QueryResultsTable job_y9JOU2dfQFihdwHRILOPW3HCCKtJ"
      ]
     },
     "execution_count": 4,
     "metadata": {},
     "output_type": "execute_result"
    }
   ],
   "source": [
    "# Create and run a SQL query\n",
    "query = bq.Query('SELECT * FROM [cloud-datalab-samples:httplogs.logs_20140615] LIMIT 3').results()\n",
    "print(type(query))\n",
    "query"
   ]
  },
  {
   "cell_type": "markdown",
   "metadata": {},
   "source": [
    "### SQL"
   ]
  },
  {
   "cell_type": "code",
   "execution_count": 7,
   "metadata": {
    "collapsed": false
   },
   "outputs": [],
   "source": [
    "%%sql --module logspreview\n",
    "# define a module - like a view\n",
    "SELECT * FROM [cloud-datalab-samples:httplogs.logs_20140615] LIMIT 3"
   ]
  },
  {
   "cell_type": "code",
   "execution_count": 9,
   "metadata": {
    "collapsed": false
   },
   "outputs": [
    {
     "name": "stdout",
     "output_type": "stream",
     "text": [
      "<type 'module'>\n",
      "<class 'datalab.bigquery._query_results_table.QueryResultsTable'>\n"
     ]
    },
    {
     "data": {
      "text/html": [
       "\n",
       "    <div class=\"bqtv\" id=\"4_150989041504\"><table><tr><th>timestamp</th><th>latency</th><th>status</th><th>method</th><th>endpoint</th></tr><tr><td>2014-06-15 07:00:00.003772</td><td>122</td><td>200</td><td>GET</td><td>Interact3</td></tr><tr><td>2014-06-15 07:00:00.428897</td><td>144</td><td>200</td><td>GET</td><td>Interact3</td></tr><tr><td>2014-06-15 07:00:00.536486</td><td>48</td><td>200</td><td>GET</td><td>Interact3</td></tr></table></div>\n",
       "    <br />(rows: 3, time: 0.6s,    24MB processed, job: job_QdWA_9_o7BlHkzrVnwBh_e5LA7Rt)<br />\n",
       "    <script>\n",
       "\n",
       "      require.config({\n",
       "        paths: {\n",
       "          d3: '//cdnjs.cloudflare.com/ajax/libs/d3/3.4.13/d3',\n",
       "          plotly: 'https://cdn.plot.ly/plotly-1.5.1.min.js?noext',\n",
       "          jquery: '//ajax.googleapis.com/ajax/libs/jquery/2.0.0/jquery.min'\n",
       "        },\n",
       "        map: {\n",
       "          '*': {\n",
       "            datalab: 'nbextensions/gcpdatalab'\n",
       "          }\n",
       "        },\n",
       "        shim: {\n",
       "          plotly: {\n",
       "            deps: ['d3', 'jquery'],\n",
       "            exports: 'plotly'\n",
       "          }\n",
       "        }\n",
       "      });\n",
       "\n",
       "      require(['datalab/charting', 'datalab/element!4_150989041504', 'base/js/events',\n",
       "          'datalab/style!/nbextensions/gcpdatalab/charting.css'],\n",
       "        function(charts, dom, events) {\n",
       "          charts.render('gcharts', dom, events, 'table', [], {\"rows\": [{\"c\": [{\"v\": \"2014-06-15T07:00:00.003772\"}, {\"v\": 122}, {\"v\": 200}, {\"v\": \"GET\"}, {\"v\": \"Interact3\"}]}, {\"c\": [{\"v\": \"2014-06-15T07:00:00.428897\"}, {\"v\": 144}, {\"v\": 200}, {\"v\": \"GET\"}, {\"v\": \"Interact3\"}]}, {\"c\": [{\"v\": \"2014-06-15T07:00:00.536486\"}, {\"v\": 48}, {\"v\": 200}, {\"v\": \"GET\"}, {\"v\": \"Interact3\"}]}], \"cols\": [{\"type\": \"datetime\", \"id\": \"timestamp\", \"label\": \"timestamp\"}, {\"type\": \"number\", \"id\": \"latency\", \"label\": \"latency\"}, {\"type\": \"number\", \"id\": \"status\", \"label\": \"status\"}, {\"type\": \"string\", \"id\": \"method\", \"label\": \"method\"}, {\"type\": \"string\", \"id\": \"endpoint\", \"label\": \"endpoint\"}]},\n",
       "            {\n",
       "              pageSize: 25,\n",
       "              cssClassNames:  {\n",
       "                tableRow: 'gchart-table-row',\n",
       "                headerRow: 'gchart-table-headerrow',\n",
       "                oddTableRow: 'gchart-table-oddrow',\n",
       "                selectedTableRow: 'gchart-table-selectedrow',\n",
       "                hoverTableRow: 'gchart-table-hoverrow',\n",
       "                tableCell: 'gchart-table-cell',\n",
       "                headerCell: 'gchart-table-headercell',\n",
       "                rowNumberCell: 'gchart-table-rownumcell'\n",
       "              }\n",
       "            },\n",
       "            {source_index: 3, fields: 'timestamp,latency,status,method,endpoint', legacy: 'true'},\n",
       "            0,\n",
       "            3);\n",
       "        }\n",
       "      );\n",
       "    </script>\n",
       "  "
      ],
      "text/plain": [
       "QueryResultsTable job_QdWA_9_o7BlHkzrVnwBh_e5LA7Rt"
      ]
     },
     "execution_count": 9,
     "metadata": {},
     "output_type": "execute_result"
    }
   ],
   "source": [
    "# Create a query using the SQL module defined above.\n",
    "print(type(logspreview))\n",
    "q = bq.Query(logspreview)\n",
    "\n",
    "# Run the query, with caching turned off (for sample purposes only), so we're sure to be\n",
    "# able to retrieve metadata, such as bytes processed from the resulting query job.\n",
    "results = q.results(use_cache = False)\n",
    "print(type(results))\n",
    "results"
   ]
  },
  {
   "cell_type": "code",
   "execution_count": 11,
   "metadata": {
    "collapsed": false
   },
   "outputs": [
    {
     "name": "stdout",
     "output_type": "stream",
     "text": [
      "<class 'datalab.bigquery._query_results_table.QueryResultsTable'>\n",
      "SELECT * FROM [cloud-datalab-samples:httplogs.logs_20140615] LIMIT 3\n",
      "3 rows\n",
      "24152138 bytes processed\n"
     ]
    }
   ],
   "source": [
    "print(type(results))\n",
    "# Inspecting the results, and the associated job\n",
    "print (results.sql)\n",
    "print (str(results.length) + ' rows')\n",
    "print (str(results.job.bytes_processed) + ' bytes processed')"
   ]
  },
  {
   "cell_type": "code",
   "execution_count": 12,
   "metadata": {
    "collapsed": false
   },
   "outputs": [
    {
     "data": {
      "text/plain": [
       "[{u'endpoint': 'Interact3',\n",
       "  u'latency': 122,\n",
       "  u'method': 'GET',\n",
       "  u'status': 200,\n",
       "  u'timestamp': datetime.datetime(2014, 6, 15, 7, 0, 0, 3772)},\n",
       " {u'endpoint': 'Interact3',\n",
       "  u'latency': 144,\n",
       "  u'method': 'GET',\n",
       "  u'status': 200,\n",
       "  u'timestamp': datetime.datetime(2014, 6, 15, 7, 0, 0, 428897)},\n",
       " {u'endpoint': 'Interact3',\n",
       "  u'latency': 48,\n",
       "  u'method': 'GET',\n",
       "  u'status': 200,\n",
       "  u'timestamp': datetime.datetime(2014, 6, 15, 7, 0, 0, 536486)}]"
      ]
     },
     "execution_count": 12,
     "metadata": {},
     "output_type": "execute_result"
    }
   ],
   "source": [
    "# Inspect the programmatic representation.\n",
    "# Converting the QueryResultsTable to a vanilla list enables viewing the literal data,\n",
    "# as well as side-stepping the HTML rendering seen above.\n",
    "list(results)"
   ]
  },
  {
   "cell_type": "markdown",
   "metadata": {},
   "source": [
    "### Sampling with bq.Query"
   ]
  },
  {
   "cell_type": "code",
   "execution_count": 13,
   "metadata": {
    "collapsed": true
   },
   "outputs": [],
   "source": [
    "%%sql --module logs\n",
    "SELECT * FROM [cloud-datalab-samples:httplogs.logs_20140615]"
   ]
  },
  {
   "cell_type": "code",
   "execution_count": 15,
   "metadata": {
    "collapsed": false
   },
   "outputs": [
    {
     "data": {
      "text/html": [
       "\n",
       "    <div class=\"bqtv\" id=\"5_150989058894\"><table><tr><th>timestamp</th><th>latency</th></tr><tr><td>2014-06-15 07:00:05.449186</td><td>6</td></tr><tr><td>2014-06-15 07:00:05.908400</td><td>5</td></tr><tr><td>2014-06-15 07:00:09.078710</td><td>30</td></tr><tr><td>2014-06-15 07:00:18.609836</td><td>28</td></tr><tr><td>2014-06-15 07:00:18.861028</td><td>119</td></tr><tr><td>2014-06-15 07:00:25.316129</td><td>712</td></tr><tr><td>2014-06-15 07:00:28.423380</td><td>211</td></tr><tr><td>2014-06-15 07:00:46.074430</td><td>501</td></tr><tr><td>2014-06-15 07:00:51.734565</td><td>124</td></tr><tr><td>2014-06-15 07:00:53.029076</td><td>121</td></tr></table></div>\n",
       "    <br />(rows: 10, time: 0.5s,    10MB processed, job: job_IjhfDab0s4C4lAItL4Gi2-EYSWKV)<br />\n",
       "    <script>\n",
       "\n",
       "      require.config({\n",
       "        paths: {\n",
       "          d3: '//cdnjs.cloudflare.com/ajax/libs/d3/3.4.13/d3',\n",
       "          plotly: 'https://cdn.plot.ly/plotly-1.5.1.min.js?noext',\n",
       "          jquery: '//ajax.googleapis.com/ajax/libs/jquery/2.0.0/jquery.min'\n",
       "        },\n",
       "        map: {\n",
       "          '*': {\n",
       "            datalab: 'nbextensions/gcpdatalab'\n",
       "          }\n",
       "        },\n",
       "        shim: {\n",
       "          plotly: {\n",
       "            deps: ['d3', 'jquery'],\n",
       "            exports: 'plotly'\n",
       "          }\n",
       "        }\n",
       "      });\n",
       "\n",
       "      require(['datalab/charting', 'datalab/element!5_150989058894', 'base/js/events',\n",
       "          'datalab/style!/nbextensions/gcpdatalab/charting.css'],\n",
       "        function(charts, dom, events) {\n",
       "          charts.render('gcharts', dom, events, 'table', [], {\"rows\": [{\"c\": [{\"v\": \"2014-06-15T07:00:05.449186\"}, {\"v\": 6}]}, {\"c\": [{\"v\": \"2014-06-15T07:00:05.908400\"}, {\"v\": 5}]}, {\"c\": [{\"v\": \"2014-06-15T07:00:09.078710\"}, {\"v\": 30}]}, {\"c\": [{\"v\": \"2014-06-15T07:00:18.609836\"}, {\"v\": 28}]}, {\"c\": [{\"v\": \"2014-06-15T07:00:18.861028\"}, {\"v\": 119}]}, {\"c\": [{\"v\": \"2014-06-15T07:00:25.316129\"}, {\"v\": 712}]}, {\"c\": [{\"v\": \"2014-06-15T07:00:28.423380\"}, {\"v\": 211}]}, {\"c\": [{\"v\": \"2014-06-15T07:00:46.074430\"}, {\"v\": 501}]}, {\"c\": [{\"v\": \"2014-06-15T07:00:51.734565\"}, {\"v\": 124}]}, {\"c\": [{\"v\": \"2014-06-15T07:00:53.029076\"}, {\"v\": 121}]}], \"cols\": [{\"type\": \"datetime\", \"id\": \"timestamp\", \"label\": \"timestamp\"}, {\"type\": \"number\", \"id\": \"latency\", \"label\": \"latency\"}]},\n",
       "            {\n",
       "              pageSize: 25,\n",
       "              cssClassNames:  {\n",
       "                tableRow: 'gchart-table-row',\n",
       "                headerRow: 'gchart-table-headerrow',\n",
       "                oddTableRow: 'gchart-table-oddrow',\n",
       "                selectedTableRow: 'gchart-table-selectedrow',\n",
       "                hoverTableRow: 'gchart-table-hoverrow',\n",
       "                tableCell: 'gchart-table-cell',\n",
       "                headerCell: 'gchart-table-headercell',\n",
       "                rowNumberCell: 'gchart-table-rownumcell'\n",
       "              }\n",
       "            },\n",
       "            {source_index: 4, fields: 'timestamp,latency', legacy: 'true'},\n",
       "            0,\n",
       "            10);\n",
       "        }\n",
       "      );\n",
       "    </script>\n",
       "  "
      ],
      "text/plain": [
       "QueryResultsTable job_IjhfDab0s4C4lAItL4Gi2-EYSWKV"
      ]
     },
     "execution_count": 15,
     "metadata": {},
     "output_type": "execute_result"
    }
   ],
   "source": [
    "# Use a hash-based sampling strategy that hashes the timestamp and takes a 1% sample.\n",
    "# By default, all fields are chosen, but a particular projection can be specified as well.\n",
    "# Further, limit to 10, since, in this case, the only use of the sampled results is to display a table.\n",
    "sampling = bq.Sampling.hashed('timestamp', percent=1, count=10, fields = ['timestamp', 'latency'])\n",
    "sample = bq.Query(logs).sample(sampling = sampling)\n",
    "sample"
   ]
  },
  {
   "cell_type": "code",
   "execution_count": 16,
   "metadata": {
    "collapsed": false
   },
   "outputs": [
    {
     "name": "stdout",
     "output_type": "stream",
     "text": [
      "SELECT timestamp,latency FROM (SELECT * FROM [cloud-datalab-samples:httplogs.logs_20140615]) WHERE ABS(HASH(timestamp)) % 100 < 1 LIMIT 10\n"
     ]
    }
   ],
   "source": [
    "# Sampling is implemented using standard SQL constructs, and is performed in BigQuery,\n",
    "# thereby limiting the results retrieved into the notebook.\n",
    "print (sample.sql)"
   ]
  },
  {
   "cell_type": "markdown",
   "metadata": {},
   "source": [
    "### Datasets and Tables"
   ]
  },
  {
   "cell_type": "code",
   "execution_count": 17,
   "metadata": {
    "collapsed": false
   },
   "outputs": [
    {
     "data": {
      "text/plain": [
       "DatasetName(project_id=u'cloud-datalab-samples', dataset_id=u'appenginelogs')"
      ]
     },
     "metadata": {},
     "output_type": "display_data"
    },
    {
     "data": {
      "text/plain": [
       "DatasetName(project_id=u'cloud-datalab-samples', dataset_id=u'carprices')"
      ]
     },
     "metadata": {},
     "output_type": "display_data"
    },
    {
     "data": {
      "text/plain": [
       "DatasetName(project_id=u'cloud-datalab-samples', dataset_id=u'httplogs')"
      ]
     },
     "metadata": {},
     "output_type": "display_data"
    },
    {
     "data": {
      "text/plain": [
       "'testing 100 4586'"
      ]
     },
     "metadata": {},
     "output_type": "display_data"
    },
    {
     "data": {
      "text/plain": [
       "'training 417 19086'"
      ]
     },
     "metadata": {},
     "output_type": "display_data"
    },
    {
     "data": {
      "text/plain": [
       "[u'timestamp', u'latency', u'status', u'method', u'endpoint']"
      ]
     },
     "metadata": {},
     "output_type": "display_data"
    }
   ],
   "source": [
    "#list\n",
    "datasets = bq.Datasets(project_id = 'cloud-datalab-samples')\n",
    "for ds in datasets:\n",
    "  display(ds.name)\n",
    "  \n",
    "sample_dataset = list(datasets)[1]\n",
    "tables = sample_dataset.tables()\n",
    "for table in tables:\n",
    "  display (str(table.name.table_id) + ' ' + str(table.metadata.rows) + ' ' + str(table.metadata.size))\n",
    "  \n",
    "table = bq.Table('cloud-datalab-samples:httplogs.logs_20140615')\n",
    "fields = map(lambda tsf: tsf.name, table.schema)\n",
    "display(fields)"
   ]
  },
  {
   "cell_type": "code",
   "execution_count": 35,
   "metadata": {
    "collapsed": false
   },
   "outputs": [
    {
     "data": {
      "text/plain": [
       "True"
      ]
     },
     "metadata": {},
     "output_type": "display_data"
    },
    {
     "data": {
      "text/plain": [
       "[Table test-hbase-spark:sample.sample_table]"
      ]
     },
     "metadata": {},
     "output_type": "display_data"
    }
   ],
   "source": [
    "# create\n",
    "# Create a new dataset (this will be deleted later in the notebook)\n",
    "sample_dataset = bq.Dataset('sample')\n",
    "sample_dataset.create(friendly_name = 'Sample Dataset', description = 'Created from Sample Notebook')\n",
    "display(sample_dataset.exists())\n",
    "\n",
    "# To create a table, we also need to create a schema.\n",
    "# Its easiest to create a schema from some existing data, so this\n",
    "# example demonstrates using an example object\n",
    "sample_row = {\n",
    "  'name': 'string value',\n",
    "  'value': 0,\n",
    "  'flag': True\n",
    "}\n",
    "sample_schema = bq.Schema.from_data([sample_row])\n",
    "sample_table = bq.Table(\"sample.sample_table\").create(schema = sample_schema, overwrite = True)\n",
    "display(list(sample_dataset.tables()))\n",
    "\n",
    "# Clear out sample resources\n",
    "sample_dataset.delete(delete_contents = True)\n",
    "\n"
   ]
  },
  {
   "cell_type": "markdown",
   "metadata": {},
   "source": [
    "## Commands"
   ]
  },
  {
   "cell_type": "code",
   "execution_count": 10,
   "metadata": {
    "collapsed": false
   },
   "outputs": [
    {
     "name": "stdout",
     "output_type": "stream",
     "text": [
      "usage: bigquery [-h]\n",
      "                {sample,create,delete,dryrun,udf,execute,pipeline,table,schema,datasets,tables,extract,load}\n",
      "                ...\n",
      "\n",
      "Execute various BigQuery-related operations. Use \"%bigquery <command> -h\" for\n",
      "help on a specific command.\n",
      "\n",
      "positional arguments:\n",
      "  {sample,create,delete,dryrun,udf,execute,pipeline,table,schema,datasets,tables,extract,load}\n",
      "                        commands\n",
      "    sample              Display a sample of the results of a BigQuery SQL\n",
      "                        query. The cell can optionally contain arguments for\n",
      "                        expanding variables in the query, if -q/--query was\n",
      "                        used, or it can contain SQL for a query.\n",
      "    create              Create a dataset or table.\n",
      "    delete              Delete a dataset or table.\n",
      "    dryrun              Execute a dry run of a BigQuery query and display\n",
      "                        approximate usage statistics\n",
      "    udf                 Create a named Javascript BigQuery UDF\n",
      "    execute             Execute a BigQuery SQL query and optionally send the\n",
      "                        results to a named table. The cell can optionally\n",
      "                        contain arguments for expanding variables in the\n",
      "                        query.\n",
      "    pipeline            Define a deployable pipeline based on a BigQuery\n",
      "                        query. The cell can optionally contain arguments for\n",
      "                        expanding variables in the query.\n",
      "    table               View a BigQuery table.\n",
      "    schema              View a BigQuery table or view schema.\n",
      "    datasets            List the datasets in a BigQuery project.\n",
      "    tables              List the tables in a BigQuery project or dataset.\n",
      "    extract             Extract BigQuery query results or table to GCS.\n",
      "    load                Load data from GCS into a BigQuery table.\n",
      "\n",
      "optional arguments:\n",
      "  -h, --help            show this help message and exit\n",
      "None\n"
     ]
    }
   ],
   "source": [
    "%bigquery --help"
   ]
  },
  {
   "cell_type": "code",
   "execution_count": 18,
   "metadata": {
    "collapsed": false
   },
   "outputs": [
    {
     "name": "stdout",
     "output_type": "stream",
     "text": [
      "usage: bigquery tables [-h] [-p PROJECT] [-d DATASET] [-f FILTER]\n",
      "\n",
      "List the tables in a BigQuery project or dataset.\n",
      "\n",
      "optional arguments:\n",
      "  -h, --help            show this help message and exit\n",
      "  -p PROJECT, --project PROJECT\n",
      "                        The project whose tables should be listed\n",
      "  -d DATASET, --dataset DATASET\n",
      "                        The dataset to restrict to\n",
      "  -f FILTER, --filter FILTER\n",
      "                        Optional wildcard filter string used to limit the\n",
      "                        results\n",
      "None\n"
     ]
    }
   ],
   "source": [
    "%bigquery tables --help"
   ]
  },
  {
   "cell_type": "markdown",
   "metadata": {},
   "source": [
    "### Listing BigQuery Resources"
   ]
  },
  {
   "cell_type": "code",
   "execution_count": 19,
   "metadata": {
    "collapsed": false
   },
   "outputs": [
    {
     "data": {
      "text/html": [
       "<ul><li>cloud-datalab-samples:appenginelogs</li><li>cloud-datalab-samples:carprices</li><li>cloud-datalab-samples:httplogs</li></ul>"
      ],
      "text/plain": [
       "<IPython.core.display.HTML object>"
      ]
     },
     "execution_count": 19,
     "metadata": {},
     "output_type": "execute_result"
    }
   ],
   "source": [
    "%bigquery datasets --project cloud-datalab-samples"
   ]
  },
  {
   "cell_type": "code",
   "execution_count": 39,
   "metadata": {
    "collapsed": false
   },
   "outputs": [
    {
     "data": {
      "text/html": [
       "<ul><li>cloud-datalab-samples:httplogs.logs_20140615</li><li>cloud-datalab-samples:httplogs.logs_20140616</li><li>cloud-datalab-samples:httplogs.logs_20140617</li><li>cloud-datalab-samples:httplogs.logs_20140618</li><li>cloud-datalab-samples:httplogs.logs_20140619</li><li>cloud-datalab-samples:httplogs.logs_20140620</li></ul>"
      ],
      "text/plain": [
       "<IPython.core.display.HTML object>"
      ]
     },
     "execution_count": 39,
     "metadata": {},
     "output_type": "execute_result"
    }
   ],
   "source": [
    "%bigquery tables --dataset cloud-datalab-samples:httplogs"
   ]
  },
  {
   "cell_type": "markdown",
   "metadata": {},
   "source": [
    "### Exploring Data"
   ]
  },
  {
   "cell_type": "code",
   "execution_count": 21,
   "metadata": {
    "collapsed": false
   },
   "outputs": [
    {
     "data": {
      "text/html": [
       "\n",
       "    <div class=\"bqsv\" id=\"7_150989061442\"></div>\n",
       "    <script>\n",
       "      require.config({\n",
       "        map: {\n",
       "          '*': {\n",
       "            datalab: 'nbextensions/gcpdatalab'\n",
       "          }\n",
       "        },\n",
       "      });\n",
       "\n",
       "      require(['datalab/bigquery', 'datalab/element!7_150989061442',\n",
       "          'datalab/style!/nbextensions/gcpdatalab/bigquery.css'],\n",
       "        function(bq, dom) {\n",
       "          bq.renderSchema(dom, [{\"type\": \"TIMESTAMP\", \"name\": \"timestamp\"}, {\"type\": \"INTEGER\", \"name\": \"latency\"}, {\"type\": \"INTEGER\", \"name\": \"status\"}, {\"type\": \"STRING\", \"name\": \"method\"}, {\"type\": \"STRING\", \"name\": \"endpoint\"}]);\n",
       "        }\n",
       "      );\n",
       "    </script>\n",
       "    "
      ],
      "text/plain": [
       "<IPython.core.display.HTML object>"
      ]
     },
     "execution_count": 21,
     "metadata": {},
     "output_type": "execute_result"
    }
   ],
   "source": [
    "# schema\n",
    "%bigquery schema --table cloud-datalab-samples:httplogs.logs_20140615"
   ]
  },
  {
   "cell_type": "code",
   "execution_count": 41,
   "metadata": {
    "collapsed": false
   },
   "outputs": [
    {
     "name": "stdout",
     "output_type": "stream",
     "text": [
      "usage: bigquery sample [-h] [-q QUERY | -t TABLE | -v VIEW]\n",
      "                       [-d {legacy,standard}] [-b BILLING] [-c COUNT]\n",
      "                       [-m {limit,random,hashed,sorted}] [-p PERCENT]\n",
      "                       [-f FIELD] [-o {ascending,descending}] [-P] [--verbose]\n",
      "\n",
      "optional arguments:\n",
      "  -h, --help            show this help message and exit\n",
      "  -q QUERY, --query QUERY\n",
      "                        the name of the query to sample\n",
      "  -t TABLE, --table TABLE\n",
      "                        the name of the table to sample\n",
      "  -v VIEW, --view VIEW  the name of the view to sample\n",
      "  -d {legacy,standard}, --dialect {legacy,standard}\n",
      "                        BigQuery SQL dialect\n",
      "  -b BILLING, --billing BILLING\n",
      "                        BigQuery billing tier\n",
      "  -c COUNT, --count COUNT\n",
      "                        The number of rows to limit to, if sampling\n",
      "  -m {limit,random,hashed,sorted}, --method {limit,random,hashed,sorted}\n",
      "                        The type of sampling to use\n",
      "  -p PERCENT, --percent PERCENT\n",
      "                        For random or hashed sampling, what percentage to\n",
      "                        sample from\n",
      "  -f FIELD, --field FIELD\n",
      "                        The field to use for sorted or hashed sampling\n",
      "  -o {ascending,descending}, --order {ascending,descending}\n",
      "                        The sort order to use for sorted sampling\n",
      "  -P, --profile         Generate an interactive profile of the data\n",
      "  --verbose             Show the expanded SQL that is being executed\n",
      "None\n"
     ]
    }
   ],
   "source": [
    "%bigquery sample --help"
   ]
  },
  {
   "cell_type": "code",
   "execution_count": 22,
   "metadata": {
    "collapsed": false
   },
   "outputs": [
    {
     "data": {
      "text/html": [
       "\n",
       "    <div class=\"bqtv\" id=\"8_150989062204\"><table><tr><th>timestamp</th><th>latency</th><th>status</th><th>method</th><th>endpoint</th></tr><tr><td>2014-06-15 07:00:05.449186</td><td>6</td><td>302</td><td>GET</td><td>Other</td></tr><tr><td>2014-06-15 07:00:05.908400</td><td>5</td><td>302</td><td>GET</td><td>Other</td></tr><tr><td>2014-06-15 07:00:09.078710</td><td>30</td><td>405</td><td>GET</td><td>Interact2</td></tr><tr><td>2014-06-15 07:00:18.609836</td><td>28</td><td>200</td><td>GET</td><td>Other</td></tr><tr><td>2014-06-15 07:00:18.861028</td><td>119</td><td>200</td><td>GET</td><td>Other</td></tr><tr><td>2014-06-15 07:00:25.316129</td><td>712</td><td>200</td><td>GET</td><td>Interact3</td></tr><tr><td>2014-06-15 07:00:28.423380</td><td>211</td><td>404</td><td>GET</td><td>Other</td></tr><tr><td>2014-06-15 07:00:46.074430</td><td>501</td><td>200</td><td>GET</td><td>Other</td></tr><tr><td>2014-06-15 07:00:51.734565</td><td>124</td><td>200</td><td>GET</td><td>Other</td></tr><tr><td>2014-06-15 07:00:53.029076</td><td>121</td><td>405</td><td>GET</td><td>Interact2</td></tr></table></div>\n",
       "    <br />(rows: 10, time: 1.0s,    24MB processed, job: job_YfmsGBFI9ASqYPZIIn2avPgd-84w)<br />\n",
       "    <script>\n",
       "\n",
       "      require.config({\n",
       "        paths: {\n",
       "          d3: '//cdnjs.cloudflare.com/ajax/libs/d3/3.4.13/d3',\n",
       "          plotly: 'https://cdn.plot.ly/plotly-1.5.1.min.js?noext',\n",
       "          jquery: '//ajax.googleapis.com/ajax/libs/jquery/2.0.0/jquery.min'\n",
       "        },\n",
       "        map: {\n",
       "          '*': {\n",
       "            datalab: 'nbextensions/gcpdatalab'\n",
       "          }\n",
       "        },\n",
       "        shim: {\n",
       "          plotly: {\n",
       "            deps: ['d3', 'jquery'],\n",
       "            exports: 'plotly'\n",
       "          }\n",
       "        }\n",
       "      });\n",
       "\n",
       "      require(['datalab/charting', 'datalab/element!8_150989062204', 'base/js/events',\n",
       "          'datalab/style!/nbextensions/gcpdatalab/charting.css'],\n",
       "        function(charts, dom, events) {\n",
       "          charts.render('gcharts', dom, events, 'table', [], {\"rows\": [{\"c\": [{\"v\": \"2014-06-15T07:00:05.449186\"}, {\"v\": 6}, {\"v\": 302}, {\"v\": \"GET\"}, {\"v\": \"Other\"}]}, {\"c\": [{\"v\": \"2014-06-15T07:00:05.908400\"}, {\"v\": 5}, {\"v\": 302}, {\"v\": \"GET\"}, {\"v\": \"Other\"}]}, {\"c\": [{\"v\": \"2014-06-15T07:00:09.078710\"}, {\"v\": 30}, {\"v\": 405}, {\"v\": \"GET\"}, {\"v\": \"Interact2\"}]}, {\"c\": [{\"v\": \"2014-06-15T07:00:18.609836\"}, {\"v\": 28}, {\"v\": 200}, {\"v\": \"GET\"}, {\"v\": \"Other\"}]}, {\"c\": [{\"v\": \"2014-06-15T07:00:18.861028\"}, {\"v\": 119}, {\"v\": 200}, {\"v\": \"GET\"}, {\"v\": \"Other\"}]}, {\"c\": [{\"v\": \"2014-06-15T07:00:25.316129\"}, {\"v\": 712}, {\"v\": 200}, {\"v\": \"GET\"}, {\"v\": \"Interact3\"}]}, {\"c\": [{\"v\": \"2014-06-15T07:00:28.423380\"}, {\"v\": 211}, {\"v\": 404}, {\"v\": \"GET\"}, {\"v\": \"Other\"}]}, {\"c\": [{\"v\": \"2014-06-15T07:00:46.074430\"}, {\"v\": 501}, {\"v\": 200}, {\"v\": \"GET\"}, {\"v\": \"Other\"}]}, {\"c\": [{\"v\": \"2014-06-15T07:00:51.734565\"}, {\"v\": 124}, {\"v\": 200}, {\"v\": \"GET\"}, {\"v\": \"Other\"}]}, {\"c\": [{\"v\": \"2014-06-15T07:00:53.029076\"}, {\"v\": 121}, {\"v\": 405}, {\"v\": \"GET\"}, {\"v\": \"Interact2\"}]}], \"cols\": [{\"type\": \"datetime\", \"id\": \"timestamp\", \"label\": \"timestamp\"}, {\"type\": \"number\", \"id\": \"latency\", \"label\": \"latency\"}, {\"type\": \"number\", \"id\": \"status\", \"label\": \"status\"}, {\"type\": \"string\", \"id\": \"method\", \"label\": \"method\"}, {\"type\": \"string\", \"id\": \"endpoint\", \"label\": \"endpoint\"}]},\n",
       "            {\n",
       "              pageSize: 25,\n",
       "              cssClassNames:  {\n",
       "                tableRow: 'gchart-table-row',\n",
       "                headerRow: 'gchart-table-headerrow',\n",
       "                oddTableRow: 'gchart-table-oddrow',\n",
       "                selectedTableRow: 'gchart-table-selectedrow',\n",
       "                hoverTableRow: 'gchart-table-hoverrow',\n",
       "                tableCell: 'gchart-table-cell',\n",
       "                headerCell: 'gchart-table-headercell',\n",
       "                rowNumberCell: 'gchart-table-rownumcell'\n",
       "              }\n",
       "            },\n",
       "            {source_index: 5, fields: 'timestamp,latency,status,method,endpoint', legacy: 'true'},\n",
       "            0,\n",
       "            10);\n",
       "        }\n",
       "      );\n",
       "    </script>\n",
       "  "
      ],
      "text/plain": [
       "QueryResultsTable job_YfmsGBFI9ASqYPZIIn2avPgd-84w"
      ]
     },
     "execution_count": 22,
     "metadata": {},
     "output_type": "execute_result"
    }
   ],
   "source": [
    "%bigquery sample --table cloud-datalab-samples:httplogs.logs_20140615 --count 10 --field timestamp --method hashed"
   ]
  },
  {
   "cell_type": "markdown",
   "metadata": {},
   "source": [
    "### Visualizing Data"
   ]
  },
  {
   "cell_type": "code",
   "execution_count": 23,
   "metadata": {
    "collapsed": true
   },
   "outputs": [],
   "source": [
    "%%sql --module data\n",
    "SELECT ROW_NUMBER() OVER (ORDER BY time) AS percentile, time\n",
    "FROM (\n",
    "  SELECT QUANTILES(LOG10(latency), 50) AS time\n",
    "  FROM [cloud-datalab-samples:httplogs.logs_20140615]\n",
    ")"
   ]
  },
  {
   "cell_type": "code",
   "execution_count": 44,
   "metadata": {
    "collapsed": false
   },
   "outputs": [
    {
     "data": {
      "text/html": [
       "\n",
       "    <div class=\"bqgc-container\">\n",
       "      \n",
       "      <div class=\"bqgc \" id=\"9_148102988288\">\n",
       "      </div>\n",
       "    </div>\n",
       "    <script>\n",
       "\n",
       "      require.config({\n",
       "        paths: {\n",
       "          d3: '//cdnjs.cloudflare.com/ajax/libs/d3/3.4.13/d3',\n",
       "          plotly: 'https://cdn.plot.ly/plotly-1.5.1.min.js?noext',\n",
       "          jquery: '//ajax.googleapis.com/ajax/libs/jquery/2.0.0/jquery.min'\n",
       "        },\n",
       "        map: {\n",
       "          '*': {\n",
       "            datalab: 'nbextensions/gcpdatalab'\n",
       "          }\n",
       "        },\n",
       "        shim: {\n",
       "          plotly: {\n",
       "            deps: ['d3', 'jquery'],\n",
       "            exports: 'plotly'\n",
       "          }\n",
       "        }\n",
       "      });\n",
       "\n",
       "      require(['datalab/charting',\n",
       "               'datalab/element!9_148102988288',\n",
       "               'base/js/events',\n",
       "               'datalab/style!/nbextensions/gcpdatalab/charting.css'\n",
       "              ],\n",
       "        function(charts, dom, events) {\n",
       "          charts.render(\n",
       "              'gcharts',\n",
       "              dom,\n",
       "              events,\n",
       "              'columns',\n",
       "              [],\n",
       "              {\"rows\": [{\"c\": [{\"v\": 1}, {\"v\": -Infinity}]}, {\"c\": [{\"v\": 2}, {\"v\": 0.47712125471966244}]}, {\"c\": [{\"v\": 3}, {\"v\": 1.041392685158225}]}, {\"c\": [{\"v\": 4}, {\"v\": 1.2787536009528289}]}, {\"c\": [{\"v\": 5}, {\"v\": 1.3424226808222062}]}, {\"c\": [{\"v\": 6}, {\"v\": 1.3617278360175928}]}, {\"c\": [{\"v\": 7}, {\"v\": 1.414973347970818}]}, {\"c\": [{\"v\": 8}, {\"v\": 1.4313637641589874}]}, {\"c\": [{\"v\": 9}, {\"v\": 1.4471580313422192}]}, {\"c\": [{\"v\": 10}, {\"v\": 1.462397997898956}]}, {\"c\": [{\"v\": 11}, {\"v\": 1.4913616938342726}]}, {\"c\": [{\"v\": 12}, {\"v\": 1.5185139398778875}]}, {\"c\": [{\"v\": 13}, {\"v\": 1.5314789170422551}]}, {\"c\": [{\"v\": 14}, {\"v\": 1.5440680443502757}]}, {\"c\": [{\"v\": 15}, {\"v\": 1.5563025007672873}]}, {\"c\": [{\"v\": 16}, {\"v\": 1.5797835966168101}]}, {\"c\": [{\"v\": 17}, {\"v\": 1.591064607026499}]}, {\"c\": [{\"v\": 18}, {\"v\": 1.6232492903979006}]}, {\"c\": [{\"v\": 19}, {\"v\": 1.6532125137753437}]}, {\"c\": [{\"v\": 20}, {\"v\": 1.6812412373755872}]}, {\"c\": [{\"v\": 21}, {\"v\": 1.7075701760979363}]}, {\"c\": [{\"v\": 22}, {\"v\": 1.7481880270062005}]}, {\"c\": [{\"v\": 23}, {\"v\": 1.8129133566428555}]}, {\"c\": [{\"v\": 24}, {\"v\": 1.863322860120456}]}, {\"c\": [{\"v\": 25}, {\"v\": 1.8976270912904414}]}, {\"c\": [{\"v\": 26}, {\"v\": 1.9344984512435677}]}, {\"c\": [{\"v\": 27}, {\"v\": 1.9731278535996986}]}, {\"c\": [{\"v\": 28}, {\"v\": 1.99563519459755}]}, {\"c\": [{\"v\": 29}, {\"v\": 2.0086001717619175}]}, {\"c\": [{\"v\": 30}, {\"v\": 2.0253058652647704}]}, {\"c\": [{\"v\": 31}, {\"v\": 2.0453229787866576}]}, {\"c\": [{\"v\": 32}, {\"v\": 2.0644579892269186}]}, {\"c\": [{\"v\": 33}, {\"v\": 2.08278537031645}]}, {\"c\": [{\"v\": 34}, {\"v\": 2.089905111439398}]}, {\"c\": [{\"v\": 35}, {\"v\": 2.1172712956557644}]}, {\"c\": [{\"v\": 36}, {\"v\": 2.1522883443830563}]}, {\"c\": [{\"v\": 37}, {\"v\": 2.1760912590556813}]}, {\"c\": [{\"v\": 38}, {\"v\": 2.1903316981702914}]}, {\"c\": [{\"v\": 39}, {\"v\": 2.2013971243204513}]}, {\"c\": [{\"v\": 40}, {\"v\": 2.225309281725863}]}, {\"c\": [{\"v\": 41}, {\"v\": 2.2576785748691846}]}, {\"c\": [{\"v\": 42}, {\"v\": 2.292256071356476}]}, {\"c\": [{\"v\": 43}, {\"v\": 2.3283796034387376}]}, {\"c\": [{\"v\": 44}, {\"v\": 2.374748346010104}]}, {\"c\": [{\"v\": 45}, {\"v\": 2.429752280002408}]}, {\"c\": [{\"v\": 46}, {\"v\": 2.5024271199844326}]}, {\"c\": [{\"v\": 47}, {\"v\": 2.5921767573958667}]}, {\"c\": [{\"v\": 48}, {\"v\": 2.7299742856995555}]}, {\"c\": [{\"v\": 49}, {\"v\": 3.246498580795801}]}, {\"c\": [{\"v\": 50}, {\"v\": 7.130363299515732}]}], \"cols\": [{\"type\": \"number\", \"id\": \"percentile\", \"label\": \"percentile\"}, {\"type\": \"number\", \"id\": \"time\", \"label\": \"time\"}]},\n",
       "              {},\n",
       "              {\"fields\": \"percentile,time\", \"source_index\": 5, \"name\": 5},\n",
       "              0,\n",
       "              50);\n",
       "          }\n",
       "        );\n",
       "    </script>\n",
       "  "
      ],
      "text/plain": [
       "<IPython.core.display.HTML object>"
      ]
     },
     "execution_count": 44,
     "metadata": {},
     "output_type": "execute_result"
    },
    {
     "data": {
      "image/png": "[encoded data removed]"
     },
     "metadata": {
      "source_id": "9_148102988288"
     },
     "output_type": "display_data"
    }
   ],
   "source": [
    "%chart columns --data data --fields percentile,time"
   ]
  },
  {
   "cell_type": "markdown",
   "metadata": {},
   "source": [
    "# Parameterized"
   ]
  },
  {
   "cell_type": "code",
   "execution_count": 24,
   "metadata": {
    "collapsed": true
   },
   "outputs": [],
   "source": [
    "%%sql --dialect standard --module dt\n",
    "SELECT TIMESTAMP(DATE($period)) as timestamp;"
   ]
  },
  {
   "cell_type": "code",
   "execution_count": 25,
   "metadata": {
    "collapsed": false
   },
   "outputs": [
    {
     "data": {
      "text/html": [
       "\n",
       "    <div class=\"bqtv\" id=\"9_150989064521\"><table><tr><th>timestamp</th></tr><tr><td>2008-12-25 00:00:00</td></tr></table></div>\n",
       "    <br />(rows: 1, time: 0.4s,     0B processed, job: job_q7o3OQOx4NdTjA5_jNVdTBbk_Slg)<br />\n",
       "    <script>\n",
       "\n",
       "      require.config({\n",
       "        paths: {\n",
       "          d3: '//cdnjs.cloudflare.com/ajax/libs/d3/3.4.13/d3',\n",
       "          plotly: 'https://cdn.plot.ly/plotly-1.5.1.min.js?noext',\n",
       "          jquery: '//ajax.googleapis.com/ajax/libs/jquery/2.0.0/jquery.min'\n",
       "        },\n",
       "        map: {\n",
       "          '*': {\n",
       "            datalab: 'nbextensions/gcpdatalab'\n",
       "          }\n",
       "        },\n",
       "        shim: {\n",
       "          plotly: {\n",
       "            deps: ['d3', 'jquery'],\n",
       "            exports: 'plotly'\n",
       "          }\n",
       "        }\n",
       "      });\n",
       "\n",
       "      require(['datalab/charting', 'datalab/element!9_150989064521', 'base/js/events',\n",
       "          'datalab/style!/nbextensions/gcpdatalab/charting.css'],\n",
       "        function(charts, dom, events) {\n",
       "          charts.render('gcharts', dom, events, 'table', [], {\"rows\": [{\"c\": [{\"v\": \"2008-12-25T00:00:00\"}]}], \"cols\": [{\"type\": \"datetime\", \"id\": \"timestamp\", \"label\": \"timestamp\"}]},\n",
       "            {\n",
       "              pageSize: 25,\n",
       "              cssClassNames:  {\n",
       "                tableRow: 'gchart-table-row',\n",
       "                headerRow: 'gchart-table-headerrow',\n",
       "                oddTableRow: 'gchart-table-oddrow',\n",
       "                selectedTableRow: 'gchart-table-selectedrow',\n",
       "                hoverTableRow: 'gchart-table-hoverrow',\n",
       "                tableCell: 'gchart-table-cell',\n",
       "                headerCell: 'gchart-table-headercell',\n",
       "                rowNumberCell: 'gchart-table-rownumcell'\n",
       "              }\n",
       "            },\n",
       "            {source_index: 6, fields: 'timestamp', legacy: 'true'},\n",
       "            0,\n",
       "            1);\n",
       "        }\n",
       "      );\n",
       "    </script>\n",
       "  "
      ],
      "text/plain": [
       "QueryResultsTable job_q7o3OQOx4NdTjA5_jNVdTBbk_Slg"
      ]
     },
     "execution_count": 25,
     "metadata": {},
     "output_type": "execute_result"
    }
   ],
   "source": [
    "period = '2008-12-25'\n",
    "q = bq.Query(dt, period= period)\n",
    "results = q.results(use_cache = False)\n",
    "results"
   ]
  },
  {
   "cell_type": "code",
   "execution_count": 26,
   "metadata": {
    "collapsed": false
   },
   "outputs": [
    {
     "name": "stdout",
     "output_type": "stream",
     "text": [
      "Package                                         Version    \r\n",
      "----------------------------------------------- -----------\r\n",
      "appdirs                                         1.4.3      \r\n",
      "avro                                            1.8.1      \r\n",
      "backports-abc                                   0.5        \r\n",
      "backports.shutil-get-terminal-size              1.0.0      \r\n",
      "beautifulsoup4                                  4.5.3      \r\n",
      "bleach                                          2.0.0      \r\n",
      "brewer2mpl                                      1.4.1      \r\n",
      "bs4                                             0.0.1      \r\n",
      "cachetools                                      2.0.0      \r\n",
      "certifi                                         2017.4.17  \r\n",
      "configparser                                    3.5.0      \r\n",
      "crcmod                                          1.7        \r\n",
      "cycler                                          0.10.0     \r\n",
      "datalab                                         1.0.1      \r\n",
      "decorator                                       4.0.11     \r\n",
      "dill                                            0.2.6      \r\n",
      "entrypoints                                     0.2.2      \r\n",
      "enum34                                          1.1.6      \r\n",
      "funcsigs                                        1.0.2      \r\n",
      "functools32                                     3.2.3.post2\r\n",
      "future                                          0.16.0     \r\n",
      "futures                                         3.0.5      \r\n",
      "gapic-google-logging-v2                         0.9.3      \r\n",
      "gapic-google-pubsub-v1                          0.9.3      \r\n",
      "ggplot                                          0.6.8      \r\n",
      "google-api-python-client                        1.5.1      \r\n",
      "google-apitools                                 0.5.9      \r\n",
      "google-auth                                     1.0.0      \r\n",
      "google-auth-httplib2                            0.0.2      \r\n",
      "google-cloud                                    0.19.0     \r\n",
      "google-cloud-bigquery                           0.22.1     \r\n",
      "google-cloud-core                               0.22.1     \r\n",
      "google-cloud-dataflow                           0.6.0      \r\n",
      "google-gax                                      0.13.0     \r\n",
      "googleapis-common-protos                        1.5.2      \r\n",
      "googledatastore                                 7.0.0      \r\n",
      "grpc-google-logging-v2                          0.9.3      \r\n",
      "grpc-google-pubsub-v1                           0.9.3      \r\n",
      "grpcio                                          1.2.1      \r\n",
      "html5lib                                        0.999999999\r\n",
      "httplib2                                        0.9.2      \r\n",
      "ipykernel                                       4.5.2      \r\n",
      "ipython                                         5.3.0      \r\n",
      "ipython-genutils                                0.2.0      \r\n",
      "ipywidgets                                      6.0.0      \r\n",
      "Jinja2                                          2.8        \r\n",
      "jsonschema                                      2.6.0      \r\n",
      "jupyter-client                                  5.0.1      \r\n",
      "jupyter-core                                    4.3.0      \r\n",
      "MarkupSafe                                      1.0        \r\n",
      "matplotlib                                      1.5.3      \r\n",
      "mistune                                         0.7.4      \r\n",
      "mltoolbox-datalab-classification-and-regression 1.0.0      \r\n",
      "mltoolbox-datalab-image-classification          0.1        \r\n",
      "mock                                            2.0.0      \r\n",
      "nbconvert                                       5.1.1      \r\n",
      "nbformat                                        4.3.0      \r\n",
      "nltk                                            3.2.1      \r\n",
      "notebook                                        4.2.3      \r\n",
      "numpy                                           1.11.2     \r\n",
      "oauth2client                                    2.2.0      \r\n",
      "packaging                                       16.8       \r\n",
      "pandas                                          0.19.1     \r\n",
      "pandas-profiling                                1.4.0      \r\n",
      "pandocfilters                                   1.4.1      \r\n",
      "pathlib2                                        2.2.1      \r\n",
      "patsy                                           0.4.1      \r\n",
      "pbr                                             3.0.0      \r\n",
      "pexpect                                         4.2.1      \r\n",
      "pickleshare                                     0.7.4      \r\n",
      "Pillow                                          3.4.1      \r\n",
      "pip                                             9.0.1      \r\n",
      "plotly                                          1.12.5     \r\n",
      "ply                                             3.8        \r\n",
      "prompt-toolkit                                  1.0.14     \r\n",
      "proto-google-cloud-datastore-v1                 0.90.0     \r\n",
      "protobuf                                        3.1.0      \r\n",
      "psutil                                          4.3.0      \r\n",
      "ptyprocess                                      0.5.1      \r\n",
      "pyasn1                                          0.2.3      \r\n",
      "pyasn1-modules                                  0.0.8      \r\n",
      "Pygments                                        2.1.3      \r\n",
      "pyparsing                                       2.2.0      \r\n",
      "python-dateutil                                 2.5.0      \r\n",
      "pytz                                            2016.7     \r\n",
      "PyYAML                                          3.11       \r\n",
      "pyzmq                                           16.0.2     \r\n",
      "requests                                        2.9.1      \r\n",
      "rsa                                             3.4.2      \r\n",
      "scandir                                         1.5        \r\n",
      "scikit-learn                                    0.17.1     \r\n",
      "scipy                                           0.18.0     \r\n",
      "seaborn                                         0.7.0      \r\n",
      "setuptools                                      35.0.1     \r\n",
      "simplegeneric                                   0.8.1      \r\n",
      "simplejson                                      3.10.0     \r\n",
      "singledispatch                                  3.4.0.3    \r\n",
      "six                                             1.10.0     \r\n",
      "statsmodels                                     0.6.1      \r\n",
      "sympy                                           0.7.6.1    \r\n",
      "tensorflow                                      1.0.0      \r\n",
      "tensorflow-transform                            0.1.7      \r\n",
      "terminado                                       0.6        \r\n",
      "testpath                                        0.3        \r\n",
      "tornado                                         4.4.2      \r\n",
      "traitlets                                       4.3.2      \r\n",
      "uritemplate                                     0.6        \r\n",
      "wcwidth                                         0.1.7      \r\n",
      "webencodings                                    0.5.1      \r\n",
      "wheel                                           0.29.0     \r\n",
      "widgetsnbextension                              2.0.0      \r\n"
     ]
    }
   ],
   "source": [
    "! pip list --format=columns"
   ]
  },
  {
   "cell_type": "code",
   "execution_count": null,
   "metadata": {
    "collapsed": true
   },
   "outputs": [],
   "source": []
  }
 ],
 "metadata": {
  "kernelspec": {
   "display_name": "Python 2",
   "language": "python",
   "name": "python2"
  },
  "language_info": {
   "codemirror_mode": {
    "name": "ipython",
    "version": 2
   },
   "file_extension": ".py",
   "mimetype": "text/x-python",
   "name": "python",
   "nbconvert_exporter": "python",
   "pygments_lexer": "ipython2",
   "version": "2.7.9"
  }
 },
 "nbformat": 4,
 "nbformat_minor": 1
}
