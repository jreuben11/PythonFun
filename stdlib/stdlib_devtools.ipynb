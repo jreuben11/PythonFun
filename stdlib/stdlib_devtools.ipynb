{
 "cells": [
  {
   "cell_type": "code",
   "execution_count": 1,
   "id": "c0d88d65-df77-4133-bfdd-4e3db1e90b6c",
   "metadata": {},
   "outputs": [
    {
     "name": "stdout",
     "output_type": "stream",
     "text": [
      "3.11.0\n"
     ]
    }
   ],
   "source": [
    "from platform import python_version\n",
    "print(python_version())"
   ]
  },
  {
   "cell_type": "markdown",
   "id": "d523b985-4178-4ecc-9d01-3986a384f567",
   "metadata": {},
   "source": [
    "# typing — Support for type hints"
   ]
  },
  {
   "cell_type": "code",
   "execution_count": 6,
   "id": "8281804d-8109-4982-86a3-2dc5bea10853",
   "metadata": {},
   "outputs": [
    {
     "data": {
      "text/plain": [
       "'Hello types!'"
      ]
     },
     "metadata": {},
     "output_type": "display_data"
    }
   ],
   "source": [
    "def greeting(name: str) -> str:\n",
    "    return 'Hello ' + name\n",
    "display(greeting(\"types!\"))"
   ]
  },
  {
   "cell_type": "markdown",
   "id": "1c8b8b8c-6886-4290-b12c-fcce9de75e24",
   "metadata": {},
   "source": [
    "## Type aliases"
   ]
  },
  {
   "cell_type": "code",
   "execution_count": 7,
   "id": "379305ad-10ba-4068-9710-aabbd11462af",
   "metadata": {},
   "outputs": [
    {
     "data": {
      "text/plain": [
       "[2.0, -8.4, 10.8]"
      ]
     },
     "metadata": {},
     "output_type": "display_data"
    }
   ],
   "source": [
    "Vector = list[float]\n",
    "\n",
    "def scale(scalar: float, vector: Vector) -> Vector:\n",
    "    return [scalar * num for num in vector]\n",
    "\n",
    "# passes type checking; a list of floats qualifies as a Vector.\n",
    "new_vector = scale(2.0, [1.0, -4.2, 5.4])\n",
    "display(new_vector)"
   ]
  },
  {
   "cell_type": "code",
   "execution_count": 9,
   "id": "eec20e0a-5dd9-4704-b2be-4b4884aefe83",
   "metadata": {},
   "outputs": [],
   "source": [
    "from collections.abc import Sequence\n",
    "\n",
    "ConnectionOptions = dict[str, str]\n",
    "Address = tuple[str, int]\n",
    "Server = tuple[Address, ConnectionOptions]\n",
    "\n",
    "def broadcast_message(message: str, servers: Sequence[Server]) -> None:\n",
    "    ...\n",
    "\n",
    "# The static type checker will treat the previous type signature as\n",
    "# being exactly equivalent to this one.\n",
    "def broadcast_message(\n",
    "        message: str,\n",
    "        servers: Sequence[tuple[tuple[str, int], dict[str, str]]]) -> None:\n",
    "    ..."
   ]
  },
  {
   "cell_type": "markdown",
   "id": "b1460b15-5b12-40f4-8950-2765a193e92c",
   "metadata": {},
   "source": [
    "## NewType"
   ]
  },
  {
   "cell_type": "code",
   "execution_count": 16,
   "id": "b12e9574-faee-4d44-b2a4-607dba15d16c",
   "metadata": {},
   "outputs": [],
   "source": [
    "from typing import NewType\n",
    "\n",
    "UserId = NewType('UserId', int)\n",
    "some_id = UserId(524313)\n",
    "\n",
    "def get_user_name(user_id: UserId) -> str:\n",
    "    ...\n",
    "\n",
    "# passes type checking\n",
    "user_a = get_user_name(UserId(42351))\n",
    "\n",
    "# fails type checking; an int is not a UserId\n",
    "user_b = get_user_name(-1)\n",
    "\n",
    "# 'output' is of base type 'int', not 'UserId'\n",
    "output = UserId(23413) + UserId(54341)\n",
    "\n",
    "# Fails at runtime and does not pass type checking - It is invalid to create a subtype of derived:\n",
    "# class AdminUserId(UserId): pass\n",
    "\n",
    "# it is possible to create a NewType based on a ‘derived’ NewType:\n",
    "ProUserId = NewType('ProUserId', UserId)"
   ]
  },
  {
   "cell_type": "markdown",
   "id": "3a896222-558f-4f0d-9945-bf6dff76e294",
   "metadata": {},
   "source": [
    "## Callable"
   ]
  },
  {
   "cell_type": "code",
   "execution_count": 22,
   "id": "2762e48f-cf4b-442e-a7da-4715279e3df0",
   "metadata": {},
   "outputs": [],
   "source": [
    "from collections.abc import Callable, Awaitable\n",
    "\n",
    "def feeder(get_next_item: Callable[[], str]) -> None:\n",
    "    ...\n",
    "\n",
    "def async_query(on_success: Callable[[int], None],\n",
    "                on_error: Callable[[int, Exception], None]) -> None:\n",
    "    ...\n",
    "\n",
    "async def on_update(value: str) -> None:\n",
    "    ...\n",
    "    \n",
    "callback: Callable[[str], Awaitable[None]] = on_update"
   ]
  },
  {
   "cell_type": "markdown",
   "id": "aee61355-c87b-45e7-8b05-9e3030e7c12d",
   "metadata": {},
   "source": [
    "## Generics"
   ]
  },
  {
   "cell_type": "code",
   "execution_count": 29,
   "id": "6b9b0b16-95de-4df3-9a07-4920fa26dfca",
   "metadata": {},
   "outputs": [],
   "source": [
    "from collections.abc import Mapping, Sequence\n",
    "\n",
    "class Employee(): pass\n",
    "\n",
    "def notify_by_email(employees: Sequence[Employee], \n",
    "                    overrides: Mapping[str, str]) -> None:  ...\n",
    "\n",
    "from typing import TypeVar\n",
    "\n",
    "T = TypeVar('T')      # Declare type variable\n",
    "\n",
    "def first(l: Sequence[T]) -> T:   # Generic function\n",
    "    return l[0]"
   ]
  },
  {
   "cell_type": "markdown",
   "id": "1e7b9271-3e36-48db-a643-8f6a181326c4",
   "metadata": {},
   "source": [
    "## User-defined generic types"
   ]
  },
  {
   "cell_type": "code",
   "execution_count": 41,
   "id": "939b5c33-af0c-42de-99e7-5e71b57a52b3",
   "metadata": {},
   "outputs": [
    {
     "name": "stderr",
     "output_type": "stream",
     "text": [
      "This is an warning\n",
      "blah+logger: blah\n",
      "blah+logger: Set 'hello '\n",
      "blah+logger: Get 'echo'\n"
     ]
    },
    {
     "name": "stdout",
     "output_type": "stream",
     "text": [
      "echo\n"
     ]
    }
   ],
   "source": [
    "from typing import TypeVar, Generic\n",
    "from logging import Logger\n",
    "\n",
    "T = TypeVar('T')\n",
    "\n",
    "class LoggedVar(Generic[T]):\n",
    "    def __init__(self, value: T, name: str, logger: Logger) -> None:\n",
    "        self.name = name\n",
    "        self.logger = logger\n",
    "        self.value = value\n",
    "\n",
    "    def set(self, new: T) -> None:\n",
    "        self.log('Set ' + repr(self.value))\n",
    "        self.value = new\n",
    "\n",
    "    def get(self) -> T:\n",
    "        self.log('Get ' + repr(self.value))\n",
    "        return self.value\n",
    "\n",
    "    def log(self, message: str) -> None:\n",
    "        self.logger.warning('%s: %s', self.name, message)\n",
    "        \n",
    "import logging\n",
    "logger = logging.getLogger('example_logger')\n",
    "logger.info('This is an info')\n",
    "logger.warning('This is an warning')\n",
    "\n",
    "l = LoggedVar(\"hello \", \"blah+logger\", logger)\n",
    "l.log(\"blah\")\n",
    "l.set(\"echo\")\n",
    "print(l.get())"
   ]
  },
  {
   "cell_type": "code",
   "execution_count": 42,
   "id": "9a576790-5567-4630-a10d-7e8f9e7da03f",
   "metadata": {},
   "outputs": [],
   "source": [
    "from collections.abc import Iterable\n",
    "\n",
    "def zero_all_vars(vars: Iterable[LoggedVar[int]]) -> None:\n",
    "    for var in vars:\n",
    "        var.set(0)"
   ]
  },
  {
   "cell_type": "code",
   "execution_count": 43,
   "id": "9eeb4e65-98df-44c8-bc77-f9ddc8792d72",
   "metadata": {},
   "outputs": [],
   "source": [
    "from typing import TypeVar, Generic, Sequence\n",
    "\n",
    "T = TypeVar('T', contravariant=True)\n",
    "B = TypeVar('B', bound=Sequence[bytes], covariant=True)\n",
    "S = TypeVar('S', int, str)\n",
    "\n",
    "class WeirdTrio(Generic[T, B, S]):\n",
    "    ..."
   ]
  },
  {
   "cell_type": "code",
   "execution_count": 2,
   "id": "69c58e88-c012-4e18-ab9f-b3bd437c34f8",
   "metadata": {},
   "outputs": [],
   "source": [
    "from collections.abc import Iterable\n",
    "from typing import TypeVar\n",
    "S = TypeVar('S')\n",
    "\n",
    "Response = Iterable[S] | int\n",
    "\n",
    "# Return type here is same as Iterable[str] | int\n",
    "def response(query: str) -> Response[str]:\n",
    "    ...\n",
    "\n",
    "T = TypeVar('T', int, float, complex)\n",
    "Vec = Iterable[tuple[T, T]]\n",
    "\n",
    "def inproduct(v: Vec[T]) -> T: # Same as Iterable[tuple[T, T]]\n",
    "    return sum(x*y for x, y in v)"
   ]
  },
  {
   "cell_type": "code",
   "execution_count": null,
   "id": "5ea38e78-10d7-4d12-a179-bec39c493c51",
   "metadata": {},
   "outputs": [],
   "source": []
  }
 ],
 "metadata": {
  "kernelspec": {
   "display_name": "Python 3 (ipykernel)",
   "language": "python",
   "name": "python3"
  },
  "language_info": {
   "codemirror_mode": {
    "name": "ipython",
    "version": 3
   },
   "file_extension": ".py",
   "mimetype": "text/x-python",
   "name": "python",
   "nbconvert_exporter": "python",
   "pygments_lexer": "ipython3",
   "version": "3.11.0"
  }
 },
 "nbformat": 4,
 "nbformat_minor": 5
}
