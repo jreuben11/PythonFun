{
 "cells": [
  {
   "cell_type": "code",
   "execution_count": 24,
   "metadata": {},
   "outputs": [],
   "source": [
    "from keras.models import Sequential\n",
    "from keras.layers import Dense, Activation\n",
    "from IPython.display import display"
   ]
  },
  {
   "cell_type": "code",
   "execution_count": 19,
   "metadata": {
    "collapsed": true
   },
   "outputs": [],
   "source": [
    "model = Sequential()"
   ]
  },
  {
   "cell_type": "markdown",
   "metadata": {},
   "source": [
    "**CIFAR10 small image classification**\n",
    "Dataset of 50,000 32x32 color training images, labeled over 10 categories, and 10,000 test images.\n",
    "\n",
    "* **X_train, X_test**: uint8 array of RGB image data with shape (nb_samples, 3, 32, 32).\n",
    "* **y_train, y_test**: uint8 array of category labels (integers in range 0-9) with shape (nb_samples,).\n"
   ]
  },
  {
   "cell_type": "code",
   "execution_count": 27,
   "metadata": {},
   "outputs": [
    {
     "data": {
      "text/plain": [
       "(50000, 32, 32, 3)"
      ]
     },
     "metadata": {},
     "output_type": "display_data"
    },
    {
     "data": {
      "text/plain": [
       "(10000, 1)"
      ]
     },
     "metadata": {},
     "output_type": "display_data"
    },
    {
     "data": {
      "text/plain": [
       "numpy.ndarray"
      ]
     },
     "metadata": {},
     "output_type": "display_data"
    }
   ],
   "source": [
    "from keras.datasets import cifar10\n",
    "(X_train, y_train), (X_test, y_test) = cifar10.load_data()\n",
    "display(X_train.shape)\n",
    "display(y_test.shape)\n",
    "display(type(X_train))"
   ]
  },
  {
   "cell_type": "markdown",
   "metadata": {},
   "source": [
    "dummy data ..."
   ]
  },
  {
   "cell_type": "code",
   "execution_count": 3,
   "metadata": {},
   "outputs": [],
   "source": [
    "import numpy as np\n",
    "X_train = np.random.random((200, 100))\n",
    "Y_train = np.random.random((200, 10))\n",
    "X_batch = np.random.random((5, 100))\n",
    "Y_batch = np.random.random((5, 10))\n",
    "X_test = np.random.random((50, 100))\n",
    "Y_test = np.random.random((50, 10))"
   ]
  },
  {
   "cell_type": "markdown",
   "metadata": {},
   "source": [
    "Stacking model layers via `.add()`:"
   ]
  },
  {
   "cell_type": "code",
   "execution_count": 20,
   "metadata": {
    "collapsed": true
   },
   "outputs": [],
   "source": [
    "model.add(Dense(output_dim=64, input_dim=100))\n",
    "model.add(Activation(\"relu\", name=\"relu\"))\n",
    "model.add(Dense(output_dim=10))\n",
    "model.add(Activation(\"softmax\", name=\"softmax\"))"
   ]
  },
  {
   "cell_type": "code",
   "execution_count": 12,
   "metadata": {
    "collapsed": true
   },
   "outputs": [],
   "source": []
  },
  {
   "cell_type": "markdown",
   "metadata": {},
   "source": [
    "configure model learning process with `.compile()`:"
   ]
  },
  {
   "cell_type": "code",
   "execution_count": 5,
   "metadata": {
    "collapsed": true
   },
   "outputs": [],
   "source": [
    "model.compile(loss='categorical_crossentropy', optimizer='sgd', metrics=['accuracy'])"
   ]
  },
  {
   "cell_type": "markdown",
   "metadata": {},
   "source": [
    "configure optimizer"
   ]
  },
  {
   "cell_type": "code",
   "execution_count": 21,
   "metadata": {
    "collapsed": true
   },
   "outputs": [],
   "source": [
    "from keras.optimizers import SGD\n",
    "model.compile(loss='categorical_crossentropy', optimizer=SGD(lr=0.01, momentum=0.9, nesterov=True))"
   ]
  },
  {
   "cell_type": "markdown",
   "metadata": {},
   "source": [
    "visualize"
   ]
  },
  {
   "cell_type": "code",
   "execution_count": 22,
   "metadata": {},
   "outputs": [
    {
     "data": {
      "image/svg+xml": [
       "<svg height=\"377pt\" viewBox=\"0.00 0.00 314.56 377.00\" width=\"315pt\" xmlns=\"http://www.w3.org/2000/svg\" xmlns:xlink=\"http://www.w3.org/1999/xlink\">\n",
       "<g class=\"graph\" id=\"graph0\" transform=\"scale(1 1) rotate(0) translate(4 373)\">\n",
       "<title>G</title>\n",
       "<polygon fill=\"white\" points=\"-4,4 -4,-373 310.556,-373 310.556,4 -4,4\" stroke=\"none\"/>\n",
       "<!-- 4637894864 -->\n",
       "<g class=\"node\" id=\"node1\"><title>4637894864</title>\n",
       "<polygon fill=\"none\" points=\"0,-324.5 0,-368.5 306.556,-368.5 306.556,-324.5 0,-324.5\" stroke=\"black\"/>\n",
       "<text font-family=\"Times,serif\" font-size=\"14.00\" text-anchor=\"middle\" x=\"83.6191\" y=\"-342.3\">dense_input_2: InputLayer</text>\n",
       "<polyline fill=\"none\" points=\"167.238,-324.5 167.238,-368.5 \" stroke=\"black\"/>\n",
       "<text font-family=\"Times,serif\" font-size=\"14.00\" text-anchor=\"middle\" x=\"195.073\" y=\"-353.3\">input:</text>\n",
       "<polyline fill=\"none\" points=\"167.238,-346.5 222.907,-346.5 \" stroke=\"black\"/>\n",
       "<text font-family=\"Times,serif\" font-size=\"14.00\" text-anchor=\"middle\" x=\"195.073\" y=\"-331.3\">output:</text>\n",
       "<polyline fill=\"none\" points=\"222.907,-324.5 222.907,-368.5 \" stroke=\"black\"/>\n",
       "<text font-family=\"Times,serif\" font-size=\"14.00\" text-anchor=\"middle\" x=\"264.731\" y=\"-353.3\">(None, 100)</text>\n",
       "<polyline fill=\"none\" points=\"222.907,-346.5 306.556,-346.5 \" stroke=\"black\"/>\n",
       "<text font-family=\"Times,serif\" font-size=\"14.00\" text-anchor=\"middle\" x=\"264.731\" y=\"-331.3\">(None, 100)</text>\n",
       "</g>\n",
       "<!-- 4637894696 -->\n",
       "<g class=\"node\" id=\"node2\"><title>4637894696</title>\n",
       "<polygon fill=\"none\" points=\"31.4932,-243.5 31.4932,-287.5 275.062,-287.5 275.062,-243.5 31.4932,-243.5\" stroke=\"black\"/>\n",
       "<text font-family=\"Times,serif\" font-size=\"14.00\" text-anchor=\"middle\" x=\"83.6191\" y=\"-261.3\">dense_7: Dense</text>\n",
       "<polyline fill=\"none\" points=\"135.745,-243.5 135.745,-287.5 \" stroke=\"black\"/>\n",
       "<text font-family=\"Times,serif\" font-size=\"14.00\" text-anchor=\"middle\" x=\"163.58\" y=\"-272.3\">input:</text>\n",
       "<polyline fill=\"none\" points=\"135.745,-265.5 191.414,-265.5 \" stroke=\"black\"/>\n",
       "<text font-family=\"Times,serif\" font-size=\"14.00\" text-anchor=\"middle\" x=\"163.58\" y=\"-250.3\">output:</text>\n",
       "<polyline fill=\"none\" points=\"191.414,-243.5 191.414,-287.5 \" stroke=\"black\"/>\n",
       "<text font-family=\"Times,serif\" font-size=\"14.00\" text-anchor=\"middle\" x=\"233.238\" y=\"-272.3\">(None, 100)</text>\n",
       "<polyline fill=\"none\" points=\"191.414,-265.5 275.062,-265.5 \" stroke=\"black\"/>\n",
       "<text font-family=\"Times,serif\" font-size=\"14.00\" text-anchor=\"middle\" x=\"233.238\" y=\"-250.3\">(None, 64)</text>\n",
       "</g>\n",
       "<!-- 4637894864&#45;&gt;4637894696 -->\n",
       "<g class=\"edge\" id=\"edge1\"><title>4637894864-&gt;4637894696</title>\n",
       "<path d=\"M153.278,-324.329C153.278,-316.183 153.278,-306.699 153.278,-297.797\" fill=\"none\" stroke=\"black\"/>\n",
       "<polygon fill=\"black\" points=\"156.778,-297.729 153.278,-287.729 149.778,-297.729 156.778,-297.729\" stroke=\"black\"/>\n",
       "</g>\n",
       "<!-- 4637908664 -->\n",
       "<g class=\"node\" id=\"node3\"><title>4637908664</title>\n",
       "<polygon fill=\"none\" points=\"35.376,-162.5 35.376,-206.5 271.18,-206.5 271.18,-162.5 35.376,-162.5\" stroke=\"black\"/>\n",
       "<text font-family=\"Times,serif\" font-size=\"14.00\" text-anchor=\"middle\" x=\"87.1191\" y=\"-180.3\">relu: Activation</text>\n",
       "<polyline fill=\"none\" points=\"138.862,-162.5 138.862,-206.5 \" stroke=\"black\"/>\n",
       "<text font-family=\"Times,serif\" font-size=\"14.00\" text-anchor=\"middle\" x=\"166.697\" y=\"-191.3\">input:</text>\n",
       "<polyline fill=\"none\" points=\"138.862,-184.5 194.531,-184.5 \" stroke=\"black\"/>\n",
       "<text font-family=\"Times,serif\" font-size=\"14.00\" text-anchor=\"middle\" x=\"166.697\" y=\"-169.3\">output:</text>\n",
       "<polyline fill=\"none\" points=\"194.531,-162.5 194.531,-206.5 \" stroke=\"black\"/>\n",
       "<text font-family=\"Times,serif\" font-size=\"14.00\" text-anchor=\"middle\" x=\"232.855\" y=\"-191.3\">(None, 64)</text>\n",
       "<polyline fill=\"none\" points=\"194.531,-184.5 271.18,-184.5 \" stroke=\"black\"/>\n",
       "<text font-family=\"Times,serif\" font-size=\"14.00\" text-anchor=\"middle\" x=\"232.855\" y=\"-169.3\">(None, 64)</text>\n",
       "</g>\n",
       "<!-- 4637894696&#45;&gt;4637908664 -->\n",
       "<g class=\"edge\" id=\"edge2\"><title>4637894696-&gt;4637908664</title>\n",
       "<path d=\"M153.278,-243.329C153.278,-235.183 153.278,-225.699 153.278,-216.797\" fill=\"none\" stroke=\"black\"/>\n",
       "<polygon fill=\"black\" points=\"156.778,-216.729 153.278,-206.729 149.778,-216.729 156.778,-216.729\" stroke=\"black\"/>\n",
       "</g>\n",
       "<!-- 4635804728 -->\n",
       "<g class=\"node\" id=\"node4\"><title>4635804728</title>\n",
       "<polygon fill=\"none\" points=\"34.9932,-81.5 34.9932,-125.5 271.562,-125.5 271.562,-81.5 34.9932,-81.5\" stroke=\"black\"/>\n",
       "<text font-family=\"Times,serif\" font-size=\"14.00\" text-anchor=\"middle\" x=\"87.1191\" y=\"-99.3\">dense_8: Dense</text>\n",
       "<polyline fill=\"none\" points=\"139.245,-81.5 139.245,-125.5 \" stroke=\"black\"/>\n",
       "<text font-family=\"Times,serif\" font-size=\"14.00\" text-anchor=\"middle\" x=\"167.08\" y=\"-110.3\">input:</text>\n",
       "<polyline fill=\"none\" points=\"139.245,-103.5 194.914,-103.5 \" stroke=\"black\"/>\n",
       "<text font-family=\"Times,serif\" font-size=\"14.00\" text-anchor=\"middle\" x=\"167.08\" y=\"-88.3\">output:</text>\n",
       "<polyline fill=\"none\" points=\"194.914,-81.5 194.914,-125.5 \" stroke=\"black\"/>\n",
       "<text font-family=\"Times,serif\" font-size=\"14.00\" text-anchor=\"middle\" x=\"233.238\" y=\"-110.3\">(None, 64)</text>\n",
       "<polyline fill=\"none\" points=\"194.914,-103.5 271.562,-103.5 \" stroke=\"black\"/>\n",
       "<text font-family=\"Times,serif\" font-size=\"14.00\" text-anchor=\"middle\" x=\"233.238\" y=\"-88.3\">(None, 10)</text>\n",
       "</g>\n",
       "<!-- 4637908664&#45;&gt;4635804728 -->\n",
       "<g class=\"edge\" id=\"edge3\"><title>4637908664-&gt;4635804728</title>\n",
       "<path d=\"M153.278,-162.329C153.278,-154.183 153.278,-144.699 153.278,-135.797\" fill=\"none\" stroke=\"black\"/>\n",
       "<polygon fill=\"black\" points=\"156.778,-135.729 153.278,-125.729 149.778,-135.729 156.778,-135.729\" stroke=\"black\"/>\n",
       "</g>\n",
       "<!-- 4637908104 -->\n",
       "<g class=\"node\" id=\"node5\"><title>4637908104</title>\n",
       "<polygon fill=\"none\" points=\"23.707,-0.5 23.707,-44.5 282.849,-44.5 282.849,-0.5 23.707,-0.5\" stroke=\"black\"/>\n",
       "<text font-family=\"Times,serif\" font-size=\"14.00\" text-anchor=\"middle\" x=\"87.1191\" y=\"-18.3\">softmax: Activation</text>\n",
       "<polyline fill=\"none\" points=\"150.531,-0.5 150.531,-44.5 \" stroke=\"black\"/>\n",
       "<text font-family=\"Times,serif\" font-size=\"14.00\" text-anchor=\"middle\" x=\"178.366\" y=\"-29.3\">input:</text>\n",
       "<polyline fill=\"none\" points=\"150.531,-22.5 206.2,-22.5 \" stroke=\"black\"/>\n",
       "<text font-family=\"Times,serif\" font-size=\"14.00\" text-anchor=\"middle\" x=\"178.366\" y=\"-7.3\">output:</text>\n",
       "<polyline fill=\"none\" points=\"206.2,-0.5 206.2,-44.5 \" stroke=\"black\"/>\n",
       "<text font-family=\"Times,serif\" font-size=\"14.00\" text-anchor=\"middle\" x=\"244.524\" y=\"-29.3\">(None, 10)</text>\n",
       "<polyline fill=\"none\" points=\"206.2,-22.5 282.849,-22.5 \" stroke=\"black\"/>\n",
       "<text font-family=\"Times,serif\" font-size=\"14.00\" text-anchor=\"middle\" x=\"244.524\" y=\"-7.3\">(None, 10)</text>\n",
       "</g>\n",
       "<!-- 4635804728&#45;&gt;4637908104 -->\n",
       "<g class=\"edge\" id=\"edge4\"><title>4635804728-&gt;4637908104</title>\n",
       "<path d=\"M153.278,-81.3294C153.278,-73.1826 153.278,-63.6991 153.278,-54.7971\" fill=\"none\" stroke=\"black\"/>\n",
       "<polygon fill=\"black\" points=\"156.778,-54.729 153.278,-44.729 149.778,-54.729 156.778,-54.729\" stroke=\"black\"/>\n",
       "</g>\n",
       "</g>\n",
       "</svg>"
      ],
      "text/plain": [
       "<IPython.core.display.SVG object>"
      ]
     },
     "execution_count": 22,
     "metadata": {},
     "output_type": "execute_result"
    }
   ],
   "source": [
    "# from keras.utils.visualize_util import plot\n",
    "# plot(model, to_file='model.png', show_shapes=True)\n",
    "from IPython.display import SVG\n",
    "from keras.utils.visualize_util import model_to_dot\n",
    "SVG(model_to_dot(model, show_shapes=True).create(prog='dot', format='svg'))"
   ]
  },
  {
   "cell_type": "markdown",
   "metadata": {},
   "source": [
    "iterate training data in batches:"
   ]
  },
  {
   "cell_type": "code",
   "execution_count": 17,
   "metadata": {},
   "outputs": [
    {
     "name": "stdout",
     "output_type": "stream",
     "text": [
      "Epoch 1/5\n",
      "200/200 [==============================] - 0s - loss: 11.9710     \b\b\b\b\b\b\b\b\b\b\b\b\b\b\b\b\b\b\b\b\b\b\b\b\b\b\b\b\b\b\b\b\b\b\b\b\b\b\b\b\b\b\b\b\b\b\b\b\b\b\b\b\b\b\b\b\b\b\b\b\b\b\b\b\b\b\n",
      "Epoch 2/5\n",
      "200/200 [==============================] - 0s - loss: 11.8235     \b\b\b\b\b\b\b\b\b\b\b\b\b\b\b\b\b\b\b\b\b\b\b\b\b\b\b\b\b\b\b\b\b\b\b\b\b\b\b\b\b\b\b\b\b\b\b\b\b\b\b\b\b\b\b\b\b\b\b\b\b\b\b\b\b\b\n",
      "Epoch 3/5\n",
      "200/200 [==============================] - 0s - loss: 11.7739     \b\b\b\b\b\b\b\b\b\b\b\b\b\b\b\b\b\b\b\b\b\b\b\b\b\b\b\b\b\b\b\b\b\b\b\b\b\b\b\b\b\b\b\b\b\b\b\b\b\b\b\b\b\b\b\b\b\b\b\b\b\b\b\b\b\b\n",
      "Epoch 4/5\n",
      "200/200 [==============================] - 0s - loss: 11.7442     \b\b\b\b\b\b\b\b\b\b\b\b\b\b\b\b\b\b\b\b\b\b\b\b\b\b\b\b\b\b\b\b\b\b\b\b\b\b\b\b\b\b\b\b\b\b\b\b\b\b\b\b\b\b\b\b\b\b\b\b\b\b\b\b\b\b\n",
      "Epoch 5/5\n",
      "200/200 [==============================] - 0s - loss: 11.7250     \b\b\b\b\b\b\b\b\b\b\b\b\b\b\b\b\b\b\b\b\b\b\b\b\b\b\b\b\b\b\b\b\b\b\b\b\b\b\b\b\b\b\b\b\b\b\b\b\b\b\b\b\b\b\b\b\b\b\b\b\b\b\b\b\b\b\n"
     ]
    },
    {
     "data": {
      "text/plain": [
       "<keras.callbacks.History at 0x116d4c390>"
      ]
     },
     "execution_count": 17,
     "metadata": {},
     "output_type": "execute_result"
    }
   ],
   "source": [
    "model.fit(X_train, Y_train, nb_epoch=5, batch_size=32)"
   ]
  },
  {
   "cell_type": "markdown",
   "metadata": {},
   "source": [
    "Alternatively, manually feed batches to model:"
   ]
  },
  {
   "cell_type": "code",
   "execution_count": 20,
   "metadata": {},
   "outputs": [
    {
     "data": {
      "text/plain": [
       "13.393109"
      ]
     },
     "execution_count": 20,
     "metadata": {},
     "output_type": "execute_result"
    }
   ],
   "source": [
    "model.train_on_batch(X_batch, Y_batch)"
   ]
  },
  {
   "cell_type": "markdown",
   "metadata": {},
   "source": [
    "Evaluate model performance:"
   ]
  },
  {
   "cell_type": "code",
   "execution_count": 22,
   "metadata": {},
   "outputs": [
    {
     "name": "stdout",
     "output_type": "stream",
     "text": [
      "\r",
      "32/50 [==================>...........] - ETA: 0s"
     ]
    }
   ],
   "source": [
    "loss_and_metrics = model.evaluate(X_test, Y_test, batch_size=32)"
   ]
  },
  {
   "cell_type": "markdown",
   "metadata": {},
   "source": [
    "generate predictions on new data:"
   ]
  },
  {
   "cell_type": "code",
   "execution_count": 23,
   "metadata": {},
   "outputs": [
    {
     "name": "stdout",
     "output_type": "stream",
     "text": [
      "32/50 [==================>...........] - ETA: 0s"
     ]
    }
   ],
   "source": [
    "classes = model.predict_classes(X_test, batch_size=32)\n",
    "proba = model.predict_proba(X_test, batch_size=32)"
   ]
  },
  {
   "cell_type": "markdown",
   "metadata": {},
   "source": [
    "# Some Techniques"
   ]
  },
  {
   "cell_type": "markdown",
   "metadata": {},
   "source": [
    "## onehot encoding"
   ]
  },
  {
   "cell_type": "code",
   "execution_count": 10,
   "metadata": {},
   "outputs": [
    {
     "name": "stdout",
     "output_type": "stream",
     "text": [
      "[[ 0.  1.  0.]\n",
      " [ 1.  0.  0.]\n",
      " [ 0.  0.  1.]]\n"
     ]
    }
   ],
   "source": [
    "from keras.utils import np_utils\n",
    "from sklearn.preprocessing import LabelEncoder\n",
    "Y = ['Car', 'Boat', 'Plane']\n",
    "# encode class values as integers\n",
    "encoder = LabelEncoder()\n",
    "encoder.fit(Y)\n",
    "encoded_Y = encoder.transform(Y)\n",
    "# convert integers to dummy variables (i.e. one hot encoded)\n",
    "one_hot = np_utils.to_categorical(encoded_Y)\n",
    "print(one_hot)"
   ]
  },
  {
   "cell_type": "markdown",
   "metadata": {},
   "source": [
    "## Sequence matrix gen from sequence array"
   ]
  },
  {
   "cell_type": "code",
   "execution_count": 6,
   "metadata": {},
   "outputs": [
    {
     "name": "stdout",
     "output_type": "stream",
     "text": [
      "ABCDE -> F\n",
      "BCDEF -> G\n",
      "CDEFG -> H\n",
      "DEFGH -> I\n",
      "EFGHI -> J\n",
      "FGHIJ -> K\n",
      "GHIJK -> L\n",
      "HIJKL -> M\n",
      "IJKLM -> N\n",
      "JKLMN -> O\n",
      "KLMNO -> P\n",
      "LMNOP -> Q\n",
      "MNOPQ -> R\n",
      "NOPQR -> S\n",
      "OPQRS -> T\n",
      "PQRST -> U\n",
      "QRSTU -> V\n",
      "RSTUV -> W\n",
      "STUVW -> X\n",
      "TUVWX -> Y\n",
      "UVWXY -> Z\n"
     ]
    }
   ],
   "source": [
    "alphabet = \"ABCDEFGHIJKLMNOPQRSTUVWXYZ\"\n",
    "# create mappings\n",
    "char_to_int = dict((c, i) for i, c in enumerate(alphabet))\n",
    "int_to_char = dict((i, c) for i, c in enumerate(alphabet))\n",
    "# prepare the dataset of input to output pairs encoded as integers\n",
    "seq_length = 5\n",
    "dataX = []\n",
    "dataY = []\n",
    "for i in range(0, len(alphabet) - seq_length, 1):\n",
    "    seq_in = alphabet[i:i + seq_length]\n",
    "    seq_out = alphabet[i + seq_length]\n",
    "    dataX.append([char_to_int[char] for char in seq_in])\n",
    "    dataY.append(char_to_int[seq_out])\n",
    "    print (seq_in, '->', seq_out)"
   ]
  },
  {
   "cell_type": "code",
   "execution_count": 16,
   "metadata": {},
   "outputs": [
    {
     "data": {
      "text/plain": [
       "(array([[112, 118],\n",
       "        [118, 132],\n",
       "        [132, 129]]), array([132, 129, 121]))"
      ]
     },
     "execution_count": 16,
     "metadata": {},
     "output_type": "execute_result"
    }
   ],
   "source": [
    "import numpy as np\n",
    "# convert an array of values into a dataset matrix\n",
    "def create_dataset(dataset, look_back=1):\n",
    "    dataX, dataY = [], []\n",
    "    for i in range(len(dataset)-look_back-1):\n",
    "        a = dataset[i:(i+look_back)]\n",
    "        dataX.append(a)\n",
    "        dataY.append(dataset[i + look_back])\n",
    "    return np.array(dataX), np.array(dataY)\n",
    "\n",
    "d = [112, 118,132,129, 121, 135]\n",
    "\n",
    "create_dataset(d, 2)"
   ]
  },
  {
   "cell_type": "code",
   "execution_count": null,
   "metadata": {
    "collapsed": true
   },
   "outputs": [],
   "source": []
  }
 ],
 "metadata": {
  "kernelspec": {
   "display_name": "Python [default]",
   "language": "python",
   "name": "python3"
  },
  "language_info": {
   "codemirror_mode": {
    "name": "ipython",
    "version": 3
   },
   "file_extension": ".py",
   "mimetype": "text/x-python",
   "name": "python",
   "nbconvert_exporter": "python",
   "pygments_lexer": "ipython3",
   "version": "3.5.3"
  }
 },
 "nbformat": 4,
 "nbformat_minor": 2
}
