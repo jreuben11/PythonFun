{
 "cells": [
  {
   "cell_type": "code",
   "execution_count": 6,
   "metadata": {
    "collapsed": false
   },
   "outputs": [
    {
     "name": "stderr",
     "output_type": "stream",
     "text": [
      "Using TensorFlow backend.\n"
     ]
    }
   ],
   "source": [
    "import pandas\n",
    "import matplotlib.pyplot as plt\n",
    "import numpy\n",
    "from keras.models import Sequential\n",
    "from keras.layers import Dense"
   ]
  },
  {
   "cell_type": "code",
   "execution_count": 7,
   "metadata": {
    "collapsed": true
   },
   "outputs": [],
   "source": [
    "numpy.random.seed(7)"
   ]
  },
  {
   "cell_type": "markdown",
   "metadata": {},
   "source": [
    "# load the dataset"
   ]
  },
  {
   "cell_type": "code",
   "execution_count": 10,
   "metadata": {
    "collapsed": false
   },
   "outputs": [
    {
     "data": {
      "image/png": "[encoded data removed]",
      "text/plain": [
       "<matplotlib.figure.Figure at 0x11a087940>"
      ]
     },
     "metadata": {},
     "output_type": "display_data"
    }
   ],
   "source": [
    "dataframe = pandas.read_csv('data/international-airline-passengers.csv', usecols=[1], engine='python', skipfooter=3)\n",
    "plt.plot(dataframe)\n",
    "plt.show()\n",
    "dataset = dataframe.values\n",
    "dataset = dataset.astype('float32')"
   ]
  },
  {
   "cell_type": "markdown",
   "metadata": {},
   "source": [
    "# split into train and test sets"
   ]
  },
  {
   "cell_type": "code",
   "execution_count": 11,
   "metadata": {
    "collapsed": false
   },
   "outputs": [
    {
     "name": "stdout",
     "output_type": "stream",
     "text": [
      "96 48\n"
     ]
    }
   ],
   "source": [
    "train_size = int(len(dataset) * 0.67)\n",
    "test_size = len(dataset) - train_size\n",
    "train, test = dataset[0:train_size,:], dataset[train_size:len(dataset),:]\n",
    "print(len(train), len(test))"
   ]
  },
  {
   "cell_type": "markdown",
   "metadata": {},
   "source": [
    "# convert an array of values into a dataset matrix"
   ]
  },
  {
   "cell_type": "code",
   "execution_count": 12,
   "metadata": {
    "collapsed": true
   },
   "outputs": [],
   "source": [
    "def create_dataset(dataset, look_back=1):\n",
    "    dataX, dataY = [], []\n",
    "    for i in range(len(dataset)-look_back-1):\n",
    "        a = dataset[i:(i+look_back), 0]\n",
    "        dataX.append(a)\n",
    "        dataY.append(dataset[i + look_back, 0])\n",
    "    return numpy.array(dataX), numpy.array(dataY)"
   ]
  },
  {
   "cell_type": "markdown",
   "metadata": {},
   "source": [
    "# reshape into X=t and Y=t+1"
   ]
  },
  {
   "cell_type": "code",
   "execution_count": 14,
   "metadata": {
    "collapsed": false
   },
   "outputs": [],
   "source": [
    "look_back = 1\n",
    "trainX, trainY = create_dataset(train, look_back)\n",
    "testX, testY = create_dataset(test, look_back)"
   ]
  },
  {
   "cell_type": "markdown",
   "metadata": {},
   "source": [
    "# create and fit Multilayer Perceptron model"
   ]
  },
  {
   "cell_type": "code",
   "execution_count": 15,
   "metadata": {
    "collapsed": false
   },
   "outputs": [
    {
     "name": "stdout",
     "output_type": "stream",
     "text": [
      "Epoch 1/200\n",
      "0s - loss: 46137.3361\n",
      "Epoch 2/200\n",
      "0s - loss: 32857.3252\n",
      "Epoch 3/200\n",
      "0s - loss: 22533.5368\n",
      "Epoch 4/200\n",
      "0s - loss: 14646.3958\n",
      "Epoch 5/200\n",
      "0s - loss: 9076.0433\n",
      "Epoch 6/200\n",
      "0s - loss: 5349.4306\n",
      "Epoch 7/200\n",
      "0s - loss: 3069.6312\n",
      "Epoch 8/200\n",
      "0s - loss: 1753.2742\n",
      "Epoch 9/200\n",
      "0s - loss: 1072.9915\n",
      "Epoch 10/200\n",
      "0s - loss: 755.1590\n",
      "Epoch 11/200\n",
      "0s - loss: 615.4254\n",
      "Epoch 12/200\n",
      "0s - loss: 565.1138\n",
      "Epoch 13/200\n",
      "0s - loss: 544.1519\n",
      "Epoch 14/200\n",
      "0s - loss: 539.4173\n",
      "Epoch 15/200\n",
      "0s - loss: 538.5294\n",
      "Epoch 16/200\n",
      "0s - loss: 537.5383\n",
      "Epoch 17/200\n",
      "0s - loss: 546.7764\n",
      "Epoch 18/200\n",
      "0s - loss: 548.7112\n",
      "Epoch 19/200\n",
      "0s - loss: 539.1976\n",
      "Epoch 20/200\n",
      "0s - loss: 539.7946\n",
      "Epoch 21/200\n",
      "0s - loss: 538.0887\n",
      "Epoch 22/200\n",
      "0s - loss: 537.0282\n",
      "Epoch 23/200\n",
      "0s - loss: 538.4156\n",
      "Epoch 24/200\n",
      "0s - loss: 536.7566\n",
      "Epoch 25/200\n",
      "0s - loss: 539.7054\n",
      "Epoch 26/200\n",
      "0s - loss: 540.2698\n",
      "Epoch 27/200\n",
      "0s - loss: 539.8229\n",
      "Epoch 28/200\n",
      "0s - loss: 538.8109\n",
      "Epoch 29/200\n",
      "0s - loss: 539.6579\n",
      "Epoch 30/200\n",
      "0s - loss: 541.0317\n",
      "Epoch 31/200\n",
      "0s - loss: 537.3510\n",
      "Epoch 32/200\n",
      "0s - loss: 540.7996\n",
      "Epoch 33/200\n",
      "0s - loss: 537.9888\n",
      "Epoch 34/200\n",
      "0s - loss: 541.2584\n",
      "Epoch 35/200\n",
      "0s - loss: 538.8337\n",
      "Epoch 36/200\n",
      "0s - loss: 540.4198\n",
      "Epoch 37/200\n",
      "0s - loss: 539.7186\n",
      "Epoch 38/200\n",
      "0s - loss: 543.6804\n",
      "Epoch 39/200\n",
      "0s - loss: 539.9470\n",
      "Epoch 40/200\n",
      "0s - loss: 537.4325\n",
      "Epoch 41/200\n",
      "0s - loss: 538.2493\n",
      "Epoch 42/200\n",
      "0s - loss: 539.5832\n",
      "Epoch 43/200\n",
      "0s - loss: 545.5344\n",
      "Epoch 44/200\n",
      "0s - loss: 540.3025\n",
      "Epoch 45/200\n",
      "0s - loss: 539.1040\n",
      "Epoch 46/200\n",
      "0s - loss: 544.1868\n",
      "Epoch 47/200\n",
      "0s - loss: 543.6843\n",
      "Epoch 48/200\n",
      "0s - loss: 543.1031\n",
      "Epoch 49/200\n",
      "0s - loss: 536.5886\n",
      "Epoch 50/200\n",
      "0s - loss: 542.2502\n",
      "Epoch 51/200\n",
      "0s - loss: 539.9535\n",
      "Epoch 52/200\n",
      "0s - loss: 536.2558\n",
      "Epoch 53/200\n",
      "0s - loss: 538.2570\n",
      "Epoch 54/200\n",
      "0s - loss: 545.8751\n",
      "Epoch 55/200\n",
      "0s - loss: 538.7461\n",
      "Epoch 56/200\n",
      "0s - loss: 543.5046\n",
      "Epoch 57/200\n",
      "0s - loss: 552.9596\n",
      "Epoch 58/200\n",
      "0s - loss: 547.6112\n",
      "Epoch 59/200\n",
      "0s - loss: 542.5356\n",
      "Epoch 60/200\n",
      "0s - loss: 543.7909\n",
      "Epoch 61/200\n",
      "0s - loss: 542.9538\n",
      "Epoch 62/200\n",
      "0s - loss: 547.6907\n",
      "Epoch 63/200\n",
      "0s - loss: 539.4185\n",
      "Epoch 64/200\n",
      "0s - loss: 542.9829\n",
      "Epoch 65/200\n",
      "0s - loss: 540.5979\n",
      "Epoch 66/200\n",
      "0s - loss: 541.2647\n",
      "Epoch 67/200\n",
      "0s - loss: 551.8610\n",
      "Epoch 68/200\n",
      "0s - loss: 565.4162\n",
      "Epoch 69/200\n",
      "0s - loss: 540.0163\n",
      "Epoch 70/200\n",
      "0s - loss: 539.0930\n",
      "Epoch 71/200\n",
      "0s - loss: 546.5360\n",
      "Epoch 72/200\n",
      "0s - loss: 543.9697\n",
      "Epoch 73/200\n",
      "0s - loss: 541.5064\n",
      "Epoch 74/200\n",
      "0s - loss: 542.0452\n",
      "Epoch 75/200\n",
      "0s - loss: 544.3337\n",
      "Epoch 76/200\n",
      "0s - loss: 538.3934\n",
      "Epoch 77/200\n",
      "0s - loss: 543.0626\n",
      "Epoch 78/200\n",
      "0s - loss: 536.6894\n",
      "Epoch 79/200\n",
      "0s - loss: 544.3585\n",
      "Epoch 80/200\n",
      "0s - loss: 543.7971\n",
      "Epoch 81/200\n",
      "0s - loss: 539.4316\n",
      "Epoch 82/200\n",
      "0s - loss: 538.1236\n",
      "Epoch 83/200\n",
      "0s - loss: 554.9885\n",
      "Epoch 84/200\n",
      "0s - loss: 549.5562\n",
      "Epoch 85/200\n",
      "0s - loss: 540.3151\n",
      "Epoch 86/200\n",
      "0s - loss: 540.8810\n",
      "Epoch 87/200\n",
      "0s - loss: 539.2650\n",
      "Epoch 88/200\n",
      "0s - loss: 541.7679\n",
      "Epoch 89/200\n",
      "0s - loss: 543.3093\n",
      "Epoch 90/200\n",
      "0s - loss: 553.5988\n",
      "Epoch 91/200\n",
      "0s - loss: 545.0687\n",
      "Epoch 92/200\n",
      "0s - loss: 544.7283\n",
      "Epoch 93/200\n",
      "0s - loss: 539.3536\n",
      "Epoch 94/200\n",
      "0s - loss: 538.8363\n",
      "Epoch 95/200\n",
      "0s - loss: 547.2174\n",
      "Epoch 96/200\n",
      "0s - loss: 540.5362\n",
      "Epoch 97/200\n",
      "0s - loss: 542.9504\n",
      "Epoch 98/200\n",
      "0s - loss: 539.0764\n",
      "Epoch 99/200\n",
      "0s - loss: 545.9781\n",
      "Epoch 100/200\n",
      "0s - loss: 540.5958\n",
      "Epoch 101/200\n",
      "0s - loss: 540.3993\n",
      "Epoch 102/200\n",
      "0s - loss: 538.0088\n",
      "Epoch 103/200\n",
      "0s - loss: 544.8112\n",
      "Epoch 104/200\n",
      "0s - loss: 536.8189\n",
      "Epoch 105/200\n",
      "0s - loss: 546.0619\n",
      "Epoch 106/200\n",
      "0s - loss: 544.7251\n",
      "Epoch 107/200\n",
      "0s - loss: 540.7265\n",
      "Epoch 108/200\n",
      "0s - loss: 545.3230\n",
      "Epoch 109/200\n",
      "0s - loss: 538.6304\n",
      "Epoch 110/200\n",
      "0s - loss: 545.2604\n",
      "Epoch 111/200\n",
      "0s - loss: 540.7353\n",
      "Epoch 112/200\n",
      "0s - loss: 544.0318\n",
      "Epoch 113/200\n",
      "0s - loss: 541.7415\n",
      "Epoch 114/200\n",
      "0s - loss: 535.5474\n",
      "Epoch 115/200\n",
      "0s - loss: 549.4911\n",
      "Epoch 116/200\n",
      "0s - loss: 542.3715\n",
      "Epoch 117/200\n",
      "0s - loss: 542.5244\n",
      "Epoch 118/200\n",
      "0s - loss: 541.9144\n",
      "Epoch 119/200\n",
      "0s - loss: 542.2062\n",
      "Epoch 120/200\n",
      "0s - loss: 541.8276\n",
      "Epoch 121/200\n",
      "0s - loss: 543.7885\n",
      "Epoch 122/200\n",
      "0s - loss: 543.0163\n",
      "Epoch 123/200\n",
      "0s - loss: 540.2111\n",
      "Epoch 124/200\n",
      "0s - loss: 539.0701\n",
      "Epoch 125/200\n",
      "0s - loss: 553.9388\n",
      "Epoch 126/200\n",
      "0s - loss: 536.1459\n",
      "Epoch 127/200\n",
      "0s - loss: 538.5335\n",
      "Epoch 128/200\n",
      "0s - loss: 547.4013\n",
      "Epoch 129/200\n",
      "0s - loss: 542.4660\n",
      "Epoch 130/200\n",
      "0s - loss: 545.7212\n",
      "Epoch 131/200\n",
      "0s - loss: 541.4147\n",
      "Epoch 132/200\n",
      "0s - loss: 547.5123\n",
      "Epoch 133/200\n",
      "0s - loss: 549.1001\n",
      "Epoch 134/200\n",
      "0s - loss: 540.7673\n",
      "Epoch 135/200\n",
      "0s - loss: 539.1457\n",
      "Epoch 136/200\n",
      "0s - loss: 553.9294\n",
      "Epoch 137/200\n",
      "0s - loss: 542.9810\n",
      "Epoch 138/200\n",
      "0s - loss: 549.1412\n",
      "Epoch 139/200\n",
      "0s - loss: 544.1186\n",
      "Epoch 140/200\n",
      "0s - loss: 565.0814\n",
      "Epoch 141/200\n",
      "0s - loss: 537.3353\n",
      "Epoch 142/200\n",
      "0s - loss: 541.4454\n",
      "Epoch 143/200\n",
      "0s - loss: 537.6790\n",
      "Epoch 144/200\n",
      "0s - loss: 537.8727\n",
      "Epoch 145/200\n",
      "0s - loss: 544.9403\n",
      "Epoch 146/200\n",
      "0s - loss: 553.9881\n",
      "Epoch 147/200\n",
      "0s - loss: 550.8748\n",
      "Epoch 148/200\n",
      "0s - loss: 549.3059\n",
      "Epoch 149/200\n",
      "0s - loss: 540.0858\n",
      "Epoch 150/200\n",
      "0s - loss: 543.1980\n",
      "Epoch 151/200\n",
      "0s - loss: 541.4361\n",
      "Epoch 152/200\n",
      "0s - loss: 546.4470\n",
      "Epoch 153/200\n",
      "0s - loss: 542.3687\n",
      "Epoch 154/200\n",
      "0s - loss: 537.7798\n",
      "Epoch 155/200\n",
      "0s - loss: 545.7726\n",
      "Epoch 156/200\n",
      "0s - loss: 536.4822\n",
      "Epoch 157/200\n",
      "0s - loss: 546.3249\n",
      "Epoch 158/200\n",
      "0s - loss: 548.4486\n",
      "Epoch 159/200\n",
      "0s - loss: 538.9020\n",
      "Epoch 160/200\n",
      "0s - loss: 539.6215\n",
      "Epoch 161/200\n",
      "0s - loss: 539.4642\n",
      "Epoch 162/200\n",
      "0s - loss: 567.5563\n",
      "Epoch 163/200\n",
      "0s - loss: 557.6606\n",
      "Epoch 164/200\n",
      "0s - loss: 538.4412\n",
      "Epoch 165/200\n",
      "0s - loss: 538.4570\n",
      "Epoch 166/200\n",
      "0s - loss: 545.1278\n",
      "Epoch 167/200\n",
      "0s - loss: 537.7573\n",
      "Epoch 168/200\n",
      "0s - loss: 544.0284\n",
      "Epoch 169/200\n",
      "0s - loss: 539.3027\n",
      "Epoch 170/200\n",
      "0s - loss: 559.3413\n",
      "Epoch 171/200\n",
      "0s - loss: 544.6376\n",
      "Epoch 172/200\n",
      "0s - loss: 544.5214\n",
      "Epoch 173/200\n",
      "0s - loss: 554.0641\n",
      "Epoch 174/200\n",
      "0s - loss: 547.5516\n",
      "Epoch 175/200\n",
      "0s - loss: 538.8435\n",
      "Epoch 176/200\n",
      "0s - loss: 545.9266\n",
      "Epoch 177/200\n",
      "0s - loss: 534.5826\n",
      "Epoch 178/200\n",
      "0s - loss: 539.2079\n",
      "Epoch 179/200\n",
      "0s - loss: 541.1822\n",
      "Epoch 180/200\n",
      "0s - loss: 543.9880\n",
      "Epoch 181/200\n",
      "0s - loss: 558.9920\n",
      "Epoch 182/200\n",
      "0s - loss: 547.7058\n",
      "Epoch 183/200\n",
      "0s - loss: 536.4991\n",
      "Epoch 184/200\n",
      "0s - loss: 535.0678\n",
      "Epoch 185/200\n",
      "0s - loss: 567.0464\n",
      "Epoch 186/200\n",
      "0s - loss: 535.5114\n",
      "Epoch 187/200\n",
      "0s - loss: 539.7380\n",
      "Epoch 188/200\n",
      "0s - loss: 541.1393\n",
      "Epoch 189/200\n",
      "0s - loss: 547.7778\n",
      "Epoch 190/200\n",
      "0s - loss: 541.6074\n",
      "Epoch 191/200\n",
      "0s - loss: 539.6440\n",
      "Epoch 192/200\n",
      "0s - loss: 541.7345\n",
      "Epoch 193/200\n",
      "0s - loss: 553.4230\n",
      "Epoch 194/200\n",
      "0s - loss: 544.3565\n",
      "Epoch 195/200\n",
      "0s - loss: 536.7011\n",
      "Epoch 196/200\n",
      "0s - loss: 555.4205\n",
      "Epoch 197/200\n",
      "0s - loss: 552.2806\n",
      "Epoch 198/200\n",
      "0s - loss: 541.2210\n",
      "Epoch 199/200\n",
      "0s - loss: 542.3276\n",
      "Epoch 200/200\n",
      "0s - loss: 534.2096\n"
     ]
    },
    {
     "data": {
      "text/plain": [
       "<keras.callbacks.History at 0x11a7fda58>"
      ]
     },
     "execution_count": 15,
     "metadata": {},
     "output_type": "execute_result"
    }
   ],
   "source": [
    "model = Sequential()\n",
    "model.add(Dense(8, input_dim=look_back, activation='relu'))\n",
    "model.add(Dense(1))\n",
    "model.compile(loss='mean_squared_error', optimizer='adam')\n",
    "model.fit(trainX, trainY, nb_epoch=200, batch_size=2, verbose=2)"
   ]
  },
  {
   "cell_type": "markdown",
   "metadata": {},
   "source": [
    "# Estimate model performance"
   ]
  },
  {
   "cell_type": "code",
   "execution_count": 17,
   "metadata": {
    "collapsed": false
   },
   "outputs": [
    {
     "name": "stdout",
     "output_type": "stream",
     "text": [
      "Train Score: 532.59 MSE (23.08 RMSE)\n",
      "Test Score: 2358.07 MSE (48.56 RMSE)\n"
     ]
    }
   ],
   "source": [
    "import math\n",
    "trainScore = model.evaluate(trainX, trainY, verbose=0)\n",
    "print('Train Score: %.2f MSE (%.2f RMSE)' % (trainScore, math.sqrt(trainScore)))\n",
    "testScore = model.evaluate(testX, testY, verbose=0)\n",
    "print('Test Score: %.2f MSE (%.2f RMSE)' % (testScore, math.sqrt(testScore)))"
   ]
  },
  {
   "cell_type": "markdown",
   "metadata": {},
   "source": [
    "# generate predictions for training"
   ]
  },
  {
   "cell_type": "code",
   "execution_count": 19,
   "metadata": {
    "collapsed": true
   },
   "outputs": [],
   "source": [
    "trainPredict = model.predict(trainX)\n",
    "testPredict = model.predict(testX)"
   ]
  },
  {
   "cell_type": "markdown",
   "metadata": {},
   "source": [
    "# Shift predictions back"
   ]
  },
  {
   "cell_type": "code",
   "execution_count": 20,
   "metadata": {
    "collapsed": true
   },
   "outputs": [],
   "source": [
    "# shift train predictions for plotting\n",
    "trainPredictPlot = numpy.empty_like(dataset)\n",
    "trainPredictPlot[:, :] = numpy.nan\n",
    "trainPredictPlot[look_back:len(trainPredict)+look_back, :] = trainPredict\n",
    " \n",
    "# shift test predictions for plotting\n",
    "testPredictPlot = numpy.empty_like(dataset)\n",
    "testPredictPlot[:, :] = numpy.nan\n",
    "testPredictPlot[len(trainPredict)+(look_back*2)+1:len(dataset)-1, :] = testPredict"
   ]
  },
  {
   "cell_type": "markdown",
   "metadata": {},
   "source": [
    "# plot baseline and predictions"
   ]
  },
  {
   "cell_type": "code",
   "execution_count": 21,
   "metadata": {
    "collapsed": false
   },
   "outputs": [
    {
     "data": {
      "image/png": "[encoded data removed]",
      "text/plain": [
       "<matplotlib.figure.Figure at 0x11a8c9e48>"
      ]
     },
     "metadata": {},
     "output_type": "display_data"
    }
   ],
   "source": [
    "plt.plot(dataset)\n",
    "plt.plot(trainPredictPlot)\n",
    "plt.plot(testPredictPlot)\n",
    "plt.show()"
   ]
  },
  {
   "cell_type": "code",
   "execution_count": null,
   "metadata": {
    "collapsed": true
   },
   "outputs": [],
   "source": []
  }
 ],
 "metadata": {
  "kernelspec": {
   "display_name": "Python 3",
   "language": "python",
   "name": "python3"
  },
  "language_info": {
   "codemirror_mode": {
    "name": "ipython",
    "version": 3
   },
   "file_extension": ".py",
   "mimetype": "text/x-python",
   "name": "python",
   "nbconvert_exporter": "python",
   "pygments_lexer": "ipython3",
   "version": "3.5.2"
  }
 },
 "nbformat": 4,
 "nbformat_minor": 2
}
